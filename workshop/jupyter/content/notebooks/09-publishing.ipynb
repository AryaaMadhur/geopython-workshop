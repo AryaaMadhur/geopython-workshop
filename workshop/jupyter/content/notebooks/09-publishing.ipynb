{
 "cells": [
  {
   "cell_type": "markdown",
   "metadata": {},
   "source": [
    "# Publishing\n",
    "\n",
    "## Overview\n",
    "Dissemination is a key component of any geospatial data management lifecycle and the Internet is the key gateway in sharing your data with others.  Putting your data on the web has never been easier with services from Google, GitHub, Amazon, Azure, DigitalOcean and others, as well as numerous tooling for making data available through application programming interfaces (APIs).\n",
    "\n",
    "Publishing geospatial geospatial data has varying degrees of complexity.  From simply posting files to a web server to provisioning services and APIs, there are no shortage on mechanisms to publish your data.\n",
    "\n",
    "In this section we will focus on basic data and metadata publishing using [pygeoapi](https://pygeoapi.io) and [pycsw](https://pycsw.org).\n",
    "\n",
    "For this example we are using the [WMO WOUDC](https://woudc.org) list of [Ozone and UV monitoring stations](https://woudc.org/data/stations) (retrieved 2019-08-02).  The data can be found in:\n",
    "\n",
    "- data: `../data/woudc-stations.geojson`\n",
    "- metadata: `../data/woudc-stations.mcf`"
   ]
  },
  {
   "cell_type": "markdown",
   "metadata": {},
   "source": [
    "## Publishing data\n",
    "\n",
    "Let's inspect our current OGC API - Feature endpoint powered by pygeoapi:\n",
    "\n",
    "http://localhost:5000/collections\n",
    "\n",
    "Here you will see 10 collections listed on the resulting webpage.  To see the same listing in JSON:\n",
    "\n",
    "http://localhost:5000/collections?f=json\n",
    "\n",
    "Now let's add the WOUDC station data to our pygeoapi instance.\n",
    "\n",
    "### Update pygeoapi configuration\n",
    "\n",
    "- Using a text editor, in the directory in which you downloaded and extracted the workshop,\n",
    "open the file `workshop/services/pygeoapi-config.yml`.  This is the runtime configuration for the pygeoapi instance at http://localhost:5000\n",
    "- jump to line 614 in the file\n",
    "- uncomment lines 614 to 637\n",
    "- save the file and exit your text editor program\n",
    "\n",
    "### Restart pygeoapi service\n",
    "\n",
    "To ensure our updates are made available, we need to restart the Docker container that provides pygeoapi for this workshop:\n",
    "\n",
    "```bash\n",
    "docker restart geopython-workshop-pygeoapi\n",
    "```\n",
    "\n",
    "At this point the pygeoapi instance will provide the WOUDC stations as a feature collection.  To verify, inspect the following URLs:\n",
    "\n",
    "http://localhost:5000/collections\n",
    "\n",
    "Now you will see 11 collections listed on the resulting webpage.  To see the same listing in JSON:\n",
    "\n",
    "http://localhost:5000/collections?f=json\n",
    "\n",
    "Let's inspect our newly added collection:\n",
    "\n",
    "http://localhost:5000/collections/woudc-stations\n",
    "\n",
    "...and in JSON:\n",
    "\n",
    "http://localhost:5000/collections/woudc-stations?f=json\n",
    "\n",
    "Let's browse the collection:\n",
    "\n",
    "http://localhost:5000/collections/woudc-stations/items\n",
    "\n",
    "...and in JSON:\n",
    "\n",
    "http://localhost:5000/collections/woudc-stations/items?f=json"
   ]
  },
  {
   "cell_type": "markdown",
   "metadata": {},
   "source": [
    "## Publishing metadata\n",
    "\n",
    "We all know that data is useless without metadata right? Let's use what we learned in [Section 08 - Metadata](08-metadata.ipynb) to publish a metadata record of the WOUDC stations to pycsw.\n"
   ]
  },
  {
   "cell_type": "code",
   "execution_count": null,
   "metadata": {},
   "outputs": [],
   "source": [
    "!pygeometa generate-metadata --mcf ../data/woudc-stations.yml --schema iso19139 --output ../data/woudc-stations.xml"
   ]
  },
  {
   "cell_type": "code",
   "execution_count": null,
   "metadata": {},
   "outputs": [],
   "source": [
    "!ls -l ../data/woudc-stations.*"
   ]
  },
  {
   "cell_type": "markdown",
   "metadata": {},
   "source": [
    "At this point let's publish to Docker container providing the pycsw service for this workshop.  Run the following commands from a terminal.\n",
    "\n",
    "```bash\n",
    "docker exec -it geopython-workshop-pycsw pycsw-admin.py -c load_records -p /jupyter/content/data/woudc-stations.xml -f /etc/pycsw/pycsw.cfg\n",
    "```\n",
    "\n",
    "Now let's inspect the record in pycsw in the CSW default Dublin Core representation:\n",
    "\n",
    "http://localhost:8001/?service=CSW&version=2.0.2&request=GetRecordById&id=woudc-stations\n",
    "\n",
    "...via the ISO 19115:2003 representation:\n",
    "\n",
    "http://localhost:8001/?service=CSW&version=2.0.2&request=GetRecordById&id=woudc-stations&outputschema=http://www.isotc211.org/2005/gmd\n",
    "\n",
    "...using CSW 3.0 text search functionality:\n",
    "\n",
    "http://localhost:8001/?service=CSW&version=3.0.0&request=GetRecords&typenames=csw:Record&q=ozone\n",
    "\n",
    "If you have QGIS installed, use the MetaSearch plugin to:\n",
    "\n",
    "- add the CSW at http://localhost:8001\n",
    "- search the CSW for the WOUDC record"
   ]
  },
  {
   "cell_type": "markdown",
   "metadata": {},
   "source": [
    "---\n",
    "[<- Metadata](08-metadata.ipynb) | [Remote data ->](10-remote-data.ipynb)"
   ]
  }
 ],
 "metadata": {
  "kernelspec": {
   "display_name": "Python 3",
   "language": "python",
   "name": "python3"
  },
  "language_info": {
   "codemirror_mode": {
    "name": "ipython",
    "version": 3
   },
   "file_extension": ".py",
   "mimetype": "text/x-python",
   "name": "python",
   "nbconvert_exporter": "python",
   "pygments_lexer": "ipython3",
   "version": "3.7.3"
  }
 },
 "nbformat": 4,
 "nbformat_minor": 2
}
