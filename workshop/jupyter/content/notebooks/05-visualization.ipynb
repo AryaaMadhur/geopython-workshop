{
 "cells": [
  {
   "cell_type": "markdown",
   "metadata": {},
   "source": [
    "# Visualization\n",
    "\n",
    "## Folium Test\n",
    "\n",
    "### Basics\n",
    "\n",
    "See [Folium Quickstart](https://python-visualization.github.io/folium/quickstart.html).\n"
   ]
  },
  {
   "cell_type": "code",
   "execution_count": null,
   "outputs": [],
   "source": [
    "import folium\n",
    "\n",
    "\n",
    "m = folium.Map(location=[44.43225, 26.10626])\n"
   ],
   "metadata": {
    "collapsed": false,
    "pycharm": {
     "name": "#%%\n"
    }
   }
  },
  {
   "cell_type": "markdown",
   "source": [
    "To display it in a Jupyter notebook, simply ask for the object representation:\n"
   ],
   "metadata": {
    "collapsed": false
   }
  },
  {
   "cell_type": "code",
   "execution_count": null,
   "outputs": [],
   "source": [
    "m\n"
   ],
   "metadata": {
    "collapsed": false,
    "pycharm": {
     "name": "#%%\n"
    }
   }
  },
  {
   "cell_type": "markdown",
   "source": [
    "You could even save this map to a file and serve it via a webserver: \n",
    "\n",
    "`m.save('index.html')`\n"
   ],
   "metadata": {
    "collapsed": false,
    "pycharm": {
     "name": "#%% md\n"
    }
   }
  },
  {
   "cell_type": "markdown",
   "source": [
    "### GeoJSON Overlay\n"
   ],
   "metadata": {
    "collapsed": false
   }
  },
  {
   "cell_type": "code",
   "execution_count": null,
   "outputs": [],
   "source": [
    "\n",
    "europe = f'../data/europe_countries.json'\n",
    "\n",
    "the_map = folium.Map(\n",
    "    location=[44.43225, 26.10626],\n",
    "    zoom_start=2  \n",
    ")\n",
    "\n",
    "folium.GeoJson(\n",
    "    europe,\n",
    "    name='europe_countries'\n",
    ").add_to(the_map)\n",
    "\n",
    "folium.LayerControl().add_to(the_map)\n",
    "\n",
    "the_map\n"
   ],
   "metadata": {
    "collapsed": false,
    "pycharm": {
     "name": "#%%\n"
    }
   }
  },
  {
   "cell_type": "markdown",
   "source": [
    "---\n",
    "[<- Data Processing and Analysis](04-data-processing-analysis.ipynb) | [Metadata ->](06-metadata.ipynb)"
   ],
   "metadata": {
    "collapsed": false
   }
  }
 ],
 "metadata": {
  "kernelspec": {
   "display_name": "Python 3",
   "language": "python",
   "name": "python3"
  },
  "language_info": {
   "codemirror_mode": {
    "name": "ipython",
    "version": 3
   },
   "file_extension": ".py",
   "mimetype": "text/x-python",
   "name": "python",
   "nbconvert_exporter": "python",
   "pygments_lexer": "ipython3",
   "version": "3.6.8"
  },
  "pycharm": {
   "stem_cell": {
    "cell_type": "raw",
    "source": [],
    "metadata": {
     "collapsed": false
    }
   }
  }
 },
 "nbformat": 4,
 "nbformat_minor": 2
}