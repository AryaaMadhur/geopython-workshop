{
 "cells": [
  {
   "cell_type": "markdown",
   "metadata": {},
   "source": [
    "# Visualization\n",
    "\n",
    "When it comes to visualizing geospatial data with/on maps with Python, a great number of tools and techniques\n",
    "are available. In this lesson we will explore several of these:\n",
    "\n",
    "* [Folium](https://github.com/python-visualization/folium)\n",
    "* [ipyleaflet](https://ipyleaflet.readthedocs.io) - Interactive maps in the Jupyter notebook\n",
    "* Bokeh\n"
   ]
  },
  {
   "cell_type": "markdown",
   "metadata": {},
   "source": [
    "## Folium\n",
    "Whenever you visit website that has some kind of interactive map, it\n",
    "is quite probable that you are witnessing a map that has been made with\n",
    "a JavaScript library called [Leaflet](http://leafletjs.com).  The\n",
    "other popular library one that you might encounter is\n",
    "[OpenLayers](https://openlayers.org).\n",
    "\n",
    "There is a Python module called\n",
    "[Folium](https://github.com/python-visualization/folium) that makes\n",
    "it possible to visualize data that has been manipulated in Python on an\n",
    "interactive Leaflet map.\n",
    "\n",
    "### Basics\n",
    "We will start with the most minimal map using the default OpenStreetMap base map.\n",
    "See [Folium Quickstart](https://python-visualization.github.io/folium/quickstart.html).\n"
   ]
  },
  {
   "cell_type": "code",
   "execution_count": null,
   "metadata": {
    "pycharm": {
     "name": "#%%\n"
    }
   },
   "outputs": [],
   "source": [
    "import folium\n",
    "\n",
    "m = folium.Map(location=[44.43225, 26.10626])\n"
   ]
  },
  {
   "cell_type": "markdown",
   "metadata": {},
   "source": [
    "To display it in a Jupyter notebook, simply ask for the object representation:\n"
   ]
  },
  {
   "cell_type": "code",
   "execution_count": null,
   "metadata": {
    "pycharm": {
     "name": "#%%\n"
    }
   },
   "outputs": [],
   "source": [
    "m\n"
   ]
  },
  {
   "cell_type": "markdown",
   "metadata": {
    "pycharm": {
     "name": "#%% md\n"
    }
   },
   "source": [
    "You could even save this map to a file and serve it via a webserver: \n",
    "\n",
    "`m.save('index.html')`\n"
   ]
  },
  {
   "cell_type": "markdown",
   "metadata": {},
   "source": [
    "### GeoJSON Overlay\n",
    "\n",
    "It gets interesting when you can overlay the map with data manipulated\n",
    "via Python. Here we overlay the map with the Polygons of all countries, though\n",
    "that set is in a lower resolution clearly.\n"
   ]
  },
  {
   "cell_type": "code",
   "execution_count": null,
   "metadata": {
    "pycharm": {
     "name": "#%%\n"
    }
   },
   "outputs": [],
   "source": [
    "\n",
    "countries = f'../data/countries.json'\n",
    "\n",
    "the_map = folium.Map(\n",
    "    location=[44.43225, 26.10626],\n",
    "    zoom_start=2  \n",
    ")\n",
    "\n",
    "folium.GeoJson(\n",
    "    countries,\n",
    "    name='countries'\n",
    ").add_to(the_map)\n",
    "\n",
    "folium.LayerControl().add_to(the_map)\n",
    "\n",
    "the_map\n"
   ]
  },
  {
   "cell_type": "markdown",
   "source": [
    "## Bokeh\n",
    "\n",
    "Bokeh is a very powerful framework to produce powerful maps in combination\n",
    "with data. With Geopandas and Bokeh one can produce nice looking interactive maps like in the image below:\n",
    "\n",
    "![Bokeh and Geopandas Example](images/bokeh-example1.jpg)\n",
    "*Interactive Map with Bokeh and GeoPandas - Source: [CSC L6](https://automating-gis-processes.github.io/CSC/lessons/L6/interactive-map-bokeh.html)*\n"
   ],
   "metadata": {
    "collapsed": false,
    "pycharm": {
     "name": "#%% md\n"
    }
   }
  },
  {
   "cell_type": "markdown",
   "source": [
    "### Bokeh - Links\n",
    "\n",
    "See also:\n",
    "\n",
    "* https://automating-gis-processes.github.io/CSC/lessons/L6/interactive-map-bokeh.html\n",
    "* [Binder for Geographic Plots in Bokeh](https://mybinder.org/v2/gh/bokeh/bokeh-notebooks/master?filepath=tutorial%2F09%20-%20Geographic%20Plots.ipynb)\n",
    "* https://towardsdatascience.com/exploring-and-visualizing-chicago-transit-data-using-pandas-and-bokeh-part-ii-intro-to-bokeh-5dca6c5ced10\n",
    "* https://pythonawesome.com/bokeh-plotting-backend-for-pandas-and-geopandas/\n"
   ],
   "metadata": {
    "collapsed": false
   }
  },
  {
   "cell_type": "markdown",
   "source": [
    "### Bokeh - Make a simple Plot\n",
    "First, we learn the basic logic of plotting in Bokeh by making a simple interactive plot with a few points.\n",
    "\n",
    "Import the necessary functionalities from Bokeh."
   ],
   "metadata": {
    "collapsed": false
   }
  },
  {
   "cell_type": "code",
   "execution_count": null,
   "outputs": [],
   "source": [
    "from bokeh.plotting import figure, save\n"
   ],
   "metadata": {
    "collapsed": false,
    "pycharm": {
     "name": "#%%\n"
    }
   }
  },
  {
   "cell_type": "markdown",
   "source": [
    "Initialize our plot by calling the `figure` object.\n"
   ],
   "metadata": {
    "collapsed": false,
    "pycharm": {
     "name": "#%% md\n"
    }
   }
  },
  {
   "cell_type": "code",
   "execution_count": null,
   "outputs": [],
   "source": [
    "p = figure(title=\"My first interactive plot!\")\n"
   ],
   "metadata": {
    "collapsed": false,
    "pycharm": {
     "name": "#%%\n"
    }
   }
  },
  {
   "cell_type": "markdown",
   "source": [
    "Next we create lists of x and y coordinates that we want to plot.\n"
   ],
   "metadata": {
    "collapsed": false
   }
  },
  {
   "cell_type": "code",
   "execution_count": null,
   "outputs": [],
   "source": [
    "x_coords = [0,1,2,3,4]\n",
    "y_coords = [5,4,1,2,0]\n"
   ],
   "metadata": {
    "collapsed": false,
    "pycharm": {
     "name": "#%%\n"
    }
   }
  },
  {
   "cell_type": "markdown",
   "source": [
    "\tIn Bokeh drawing points, lines or polygons are always done using \n",
    "\tlist(s) of x and y coordinates.\n",
    "\n",
    "Now we can plot those as points using a `.circle()` -object. Give it a red color and size of 10.\n"
   ],
   "metadata": {
    "collapsed": false
   }
  },
  {
   "cell_type": "code",
   "execution_count": null,
   "outputs": [],
   "source": [
    "p.circle(x=x_coords, y=y_coords, size=10, color=\"red\")\n"
   ],
   "metadata": {
    "collapsed": false,
    "pycharm": {
     "name": "#%%\n"
    }
   }
  },
  {
   "cell_type": "markdown",
   "source": [
    "Finally, we can save our interactive plot into the disk with save -function \n",
    "that we imported in the beginning. All interactive plots are typically \n",
    "saved as html files which you can open in a web-browser.\n",
    "\n",
    "\t# Give output filepath\n",
    "\toutfp = r\"/home/geo/points.html\"\n",
    "\t\n",
    "\t# Save the plot by passing the plot -object and output path\n",
    "\tsave(obj=p, filename=outfp)\n",
    "\n",
    "Now you could open your interactive `points.html` plot by double-clicking it which should open it in a web browser.\n",
    "\n",
    "But we will plot directly in the Notebook here using `output_notebook()` and `show()`.\n"
   ],
   "metadata": {
    "collapsed": false
   }
  },
  {
   "cell_type": "code",
   "execution_count": null,
   "outputs": [],
   "source": [
    "from bokeh.io import output_notebook, show\n",
    "output_notebook()\n"
   ],
   "metadata": {
    "collapsed": false,
    "pycharm": {
     "name": "#%%\n"
    }
   }
  },
  {
   "cell_type": "markdown",
   "source": [
    "And then the moment of magic:\n"
   ],
   "metadata": {
    "collapsed": false
   }
  },
  {
   "cell_type": "code",
   "execution_count": null,
   "outputs": [],
   "source": [
    "show(p)\n"
   ],
   "metadata": {
    "collapsed": false,
    "pycharm": {
     "name": "#%%\n"
    }
   }
  },
  {
   "cell_type": "markdown",
   "source": [
    "### Bokeh - Creating an Interactive Tiled Background Map\n"
   ],
   "metadata": {
    "collapsed": false
   }
  },
  {
   "cell_type": "code",
   "source": [
    "\n",
    "from bokeh.plotting import figure\n",
    "from bokeh.tile_providers import get_provider, Vendors\n",
    "from bokeh.io import output_notebook, show\n",
    "output_notebook()\n"
   ],
   "metadata": {
    "collapsed": false,
    "pycharm": {
     "name": "#%%\n"
    }
   },
   "execution_count": null,
   "outputs": []
  },
  {
   "cell_type": "markdown",
   "source": [
    "If you show the figure, you can then use the wheel zoom and pan tools to navigate over any zoom level, \n",
    "and Bokeh will request the appropriate tiles from the server and insert them at the correct locations in the plot:\n"
   ],
   "metadata": {
    "collapsed": false
   }
  },
  {
   "cell_type": "code",
   "execution_count": null,
   "outputs": [],
   "source": [
    "\n",
    "# When using in standard Python env\n",
    "# output_file(\"tile.html\")\n",
    "\n",
    "tile_provider = get_provider(Vendors.CARTODBPOSITRON)\n",
    "\n",
    "# range bounds supplied in web mercator coordinates\n",
    "p = figure(tools='pan, wheel_zoom', x_range=(-2000000, 6000000), y_range=(-1000000, 7000000),\n",
    "           x_axis_type=\"mercator\", y_axis_type=\"mercator\")\n",
    "p.add_tile(tile_provider)\n",
    "\n",
    "show(p)\n"
   ],
   "metadata": {
    "collapsed": false,
    "pycharm": {
     "name": "#%%\n"
    }
   }
  },
  {
   "cell_type": "markdown",
   "source": [
    "### Creating an Interactive Maps using Bokeh and Geopandas\n",
    "\n",
    "Creating an interactive Bokeh map from a Shapefile or other vector data file like GeoJSON\n",
    "consists typically of the following steps:\n",
    "\n",
    "* Read the spatial vector file into `GeoDataFrame`\n",
    "* Calculate the x and y coordinates of the geometries into separate columns\n",
    "* Convert the `GeoDataFrame` into a Bokeh `DataSource`\n",
    "* Plot the x and y coordinates as points, lines or polygons (which are in Bokeh words: `circle`, `multi_line` and `patches`)\n",
    "\n",
    "We follow the steps below, extending and plotting on the tiled map from above.\n"
   ],
   "metadata": {
    "collapsed": false
   }
  },
  {
   "cell_type": "code",
   "execution_count": null,
   "outputs": [],
   "source": [
    "\n",
    "import geopandas as gpd\n",
    "\n",
    "# Read the data (already in Web Mercator projection\n",
    "points = gpd.read_file('../data/populated_places.3857.gpkg')\n"
   ],
   "metadata": {
    "collapsed": false,
    "pycharm": {
     "name": "#%%\n"
    }
   }
  },
  {
   "cell_type": "code",
   "execution_count": null,
   "outputs": [],
   "source": [
    "def getPointCoords(row, geom, coord_type):\n",
    "    \"\"\"Calculates coordinates ('x' or 'y') of a Point geometry\"\"\"\n",
    "    if coord_type == 'x':\n",
    "        return row[geom].x\n",
    "    elif coord_type == 'y':\n",
    "        return row[geom].y\n"
   ],
   "metadata": {
    "collapsed": false,
    "pycharm": {
     "name": "#%%\n"
    }
   }
  },
  {
   "cell_type": "code",
   "execution_count": null,
   "outputs": [],
   "source": [
    "points['x'] = points.apply(getPointCoords, geom='geometry', coord_type='x', axis=1)\n",
    "points['y'] = points.apply(getPointCoords, geom='geometry', coord_type='y', axis=1)\n"
   ],
   "metadata": {
    "collapsed": false,
    "pycharm": {
     "name": "#%%\n"
    }
   }
  },
  {
   "cell_type": "code",
   "execution_count": null,
   "outputs": [],
   "source": [
    "points.head(5)\n"
   ],
   "metadata": {
    "collapsed": false,
    "pycharm": {
     "name": "#%%\n"
    }
   }
  },
  {
   "cell_type": "code",
   "execution_count": null,
   "outputs": [],
   "source": [
    "p_df = points.drop('geometry', axis=1).copy()\n",
    "p_df.head(2)\n"
   ],
   "metadata": {
    "collapsed": false,
    "pycharm": {
     "name": "#%% \n"
    }
   }
  },
  {
   "cell_type": "code",
   "execution_count": null,
   "outputs": [],
   "source": [
    "from bokeh.models import ColumnDataSource\n",
    "psource = ColumnDataSource(p_df)\n"
   ],
   "metadata": {
    "collapsed": false,
    "pycharm": {
     "name": "#%%\n"
    }
   }
  },
  {
   "cell_type": "code",
   "execution_count": null,
   "outputs": [],
   "source": [
    "# p = figure(title=\"A map of populated places from a GeoPackage\")\n",
    "p.circle('x', 'y', source=psource, color='red', size=10)\n",
    "show(p)\n"
   ],
   "metadata": {
    "collapsed": false,
    "pycharm": {
     "name": "#%% \n"
    }
   }
  },
  {
   "cell_type": "markdown",
   "metadata": {},
   "source": [
    "---\n",
    "[<- Data Processing and Analysis](04-data-processing-analysis.ipynb) | [Metadata ->](06-metadata.ipynb)"
   ]
  }
 ],
 "metadata": {
  "kernelspec": {
   "display_name": "Python 3",
   "language": "python",
   "name": "python3"
  },
  "language_info": {
   "codemirror_mode": {
    "name": "ipython",
    "version": 3
   },
   "file_extension": ".py",
   "mimetype": "text/x-python",
   "name": "python",
   "nbconvert_exporter": "python",
   "pygments_lexer": "ipython3",
   "version": "3.7.3"
  },
  "pycharm": {
   "stem_cell": {
    "cell_type": "raw",
    "source": [],
    "metadata": {
     "collapsed": false
    }
   }
  }
 },
 "nbformat": 4,
 "nbformat_minor": 2
}