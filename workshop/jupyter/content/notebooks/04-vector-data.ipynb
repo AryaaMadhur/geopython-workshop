{
 "cells": [
  {
   "cell_type": "markdown",
   "metadata": {},
   "source": [
    "# Vector data\n",
    "\n",
    "TO BE SUPPLIED\n"
   ]
  },
  {
   "cell_type": "markdown",
   "source": [
    "## Manipulating Features with Fiona and Shapely\n",
    "Here we use Fiona \n",
    "to read Vector data (Features) into memory for subsequent Shapely manipulation.\n",
    "\n",
    "Feature geometry can be accessed using the `geometry` property of each feature, for example\n",
    "we can open the dataset that contains a (Multi)Polygon for each country and print\n",
    "out the geometry of the 10th Feature:\n",
    "\n",
    "First we import `Shapely` and its functions and then convert the JSON-encoded geometries to Geometry objects\n",
    "using the `shape` function."
   ],
   "metadata": {
    "collapsed": false
   }
  },
  {
   "cell_type": "code",
   "execution_count": null,
   "outputs": [],
   "source": [
    "import fiona\n",
    "from shapely.geometry import shape\n",
    "\n",
    "with fiona.open(\"../data/countries.3857.gpkg\") as countries:\n",
    "\tcountry = countries[4]\n",
    "\tprint(\"This is %s\" % country[\"properties\"][\"NAME\"])\n",
    "\tgeom = shape(country[\"geometry\"])\n",
    "  \n",
    "geom # Jupyter can display geometry data directly"
   ],
   "metadata": {
    "collapsed": false,
    "pycharm": {
     "name": "#%%\n"
    }
   }
  },
  {
   "cell_type": "code",
   "execution_count": null,
   "outputs": [],
   "source": [
    "print(geom.type)"
   ],
   "metadata": {
    "collapsed": false,
    "pycharm": {
     "name": "#%%\n"
    }
   }
  },
  {
   "cell_type": "code",
   "execution_count": null,
   "outputs": [],
   "source": [
    "print(geom.area)"
   ],
   "metadata": {
    "collapsed": false,
    "pycharm": {
     "name": "#%%\n"
    }
   }
  },
  {
   "cell_type": "code",
   "execution_count": null,
   "outputs": [],
   "source": [
    "# In km\n",
    "print(geom.length/1000)"
   ],
   "metadata": {
    "collapsed": false,
    "pycharm": {
     "name": "#%%\n"
    }
   }
  },
  {
   "cell_type": "markdown",
   "source": [
    "Let's have a look at some geometry methods. \n",
    "Tip: Shapely code is well-documented, you can always use the Python built-in `help()` function."
   ],
   "metadata": {
    "collapsed": false
   }
  },
  {
   "cell_type": "code",
   "execution_count": null,
   "outputs": [],
   "source": [
    "help(geom)"
   ],
   "metadata": {
    "collapsed": false,
    "pycharm": {
     "name": "#%%\n"
    }
   }
  },
  {
   "cell_type": "markdown",
   "source": [
    "For example we can make a buffer of 500 meter around our polygon (making Canada somewhat bigger):"
   ],
   "metadata": {
    "collapsed": false
   }
  },
  {
   "cell_type": "code",
   "execution_count": null,
   "outputs": [],
   "source": [
    "buffered_geom = geom.buffer(500)\n",
    "buffered_geom"
   ],
   "metadata": {
    "collapsed": false,
    "pycharm": {
     "name": "#%%\n"
    }
   }
  },
  {
   "cell_type": "code",
   "execution_count": null,
   "outputs": [],
   "source": [
    "# In km\n",
    "buffered_geom.length/1000"
   ],
   "metadata": {
    "collapsed": false,
    "pycharm": {
     "name": "#%%\n"
    }
   }
  },
  {
   "cell_type": "markdown",
   "source": [
    "### Converting the geometry back to JSON format\n",
    "Once we are finished, we can convert the geometry back to JSON format using `shapely.geometry.mapping` function\n"
   ],
   "metadata": {
    "collapsed": false
   }
  },
  {
   "cell_type": "code",
   "execution_count": null,
   "outputs": [],
   "source": [
    "from shapely.geometry import mapping"
   ],
   "metadata": {
    "collapsed": false,
    "pycharm": {
     "name": "#%%\n"
    }
   }
  },
  {
   "cell_type": "code",
   "execution_count": null,
   "outputs": [],
   "source": [
    "# let's create new GeoJSON-encoded vector feature\n",
    "\n",
    "new_feature = {\n",
    "\t\"type\": \"Feature\",\n",
    "\t\"properties\": {\"name\": \"My buffered feature\"},\n",
    "\t\"geometry\": mapping(buffered_geom)\n",
    "}\n",
    "new_feature\n",
    "\n",
    "# Now we could e.g. write the Feature back to file\n"
   ],
   "metadata": {
    "collapsed": false,
    "pycharm": {
     "name": "#%%\n"
    }
   }
  },
  {
   "cell_type": "markdown",
   "source": [
    "---\n",
    "[<- Projections](03-projections.ipynb) | [Raster Data ->](05-raster-data.ipynb)\n"
   ],
   "metadata": {
    "collapsed": false,
    "pycharm": {
     "name": "#%% md\n"
    }
   }
  }
 ],
 "metadata": {
  "kernelspec": {
   "display_name": "Python 3",
   "language": "python",
   "name": "python3"
  },
  "language_info": {
   "codemirror_mode": {
    "name": "ipython",
    "version": 3
   },
   "file_extension": ".py",
   "mimetype": "text/x-python",
   "name": "python",
   "nbconvert_exporter": "python",
   "pygments_lexer": "ipython3",
   "version": "3.6.8"
  },
  "pycharm": {
   "stem_cell": {
    "cell_type": "raw",
    "source": [],
    "metadata": {
     "collapsed": false
    }
   }
  }
 },
 "nbformat": 4,
 "nbformat_minor": 2
}