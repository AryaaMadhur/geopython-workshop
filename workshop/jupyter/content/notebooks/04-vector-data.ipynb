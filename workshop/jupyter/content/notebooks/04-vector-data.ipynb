{
 "cells": [
  {
   "cell_type": "markdown",
   "metadata": {},
   "source": [
    "# Vector data\n",
    "This lesson will cover Vector data, giving some theoretical background, introduce\n",
    "Vector storage formats and finally explore Python libraries for Vector data access and manipulation.\n",
    "\n",
    "## Background reading\n",
    "\n",
    "* https://docs.qgis.org/2.8/en/docs/training_manual/basic_map/vector_data.html\n",
    "\n",
    "## What is vector data?\n",
    "Vector data is spatial data, generally consisting of two parts: \n",
    "\n",
    "* Geometry\n",
    "* Attributes\n",
    "\n",
    "**Geometries** are the *Points, Lines and Polygons* as introduced in the [Geometries Lesson](02-geometry.ipynb).\n",
    "They represent the \"shape\" of the real-world phenomenon. \n",
    "**Attribute** data is information appended to the Geometry (or the other way around) \n",
    "usually in tabular format (\"records\"). Together, this combination Geometry+Attributes \n",
    "is often called a (Spatial) **Feature**.\n",
    "\n",
    "![Vector Data in QGIS](images/qgis-attr-table.png)\n",
    "\n",
    "A [Triangulated Irregular network (TIN)](https://en.wikipedia.org/wiki/Triangulated_irregular_network) \n",
    "is also an example of Vector data."
   ]
  },
  {
   "cell_type": "markdown",
   "metadata": {},
   "source": [
    "## Vector data formats\n",
    "There are currently [over 100 vector data formats](https://gdal.org/drivers/vector/index.html) used for storage, e.g. files, and for data transfer.\n",
    "The most common formats are presented below. \n",
    "\n",
    "> Tip: [ogr2ogr](https://gdal.org/programs/ogr2ogr.html) is a GDAL/OGR commandline utility\n",
    "> that allows you to convert between most vector formats.  \n",
    "\n",
    "### ESRI Shapefile\n",
    "\n",
    "[ESRI Shapefile](https://en.wikipedia.org/wiki/Shapefile) is a file-based format. It consists of at least 3 files:\n",
    "\n",
    "* .shp containing geometry\n",
    "* .shx containing index\n",
    "* .dbf attribute table\n",
    "\n",
    "The ESRI Shapefile is one of the oldest formats, some even call it a [Curse in Geoinformatics](https://www.slideshare.net/jachym/switch-from-shapefile), and is more and more replaced by GeoPackage.\n",
    "\n",
    "### GeoPackage\n",
    "\n",
    "[GeoPackage](https://www.geopackage.org/) is a relatively new but promising spatial data format based on [SQLite](https://www.sqlite.org). \n",
    "\n",
    "The [OGC GeoPackage Encoding Standard](http://www.opengeospatial.org/standards/geopackage) describes a set of conventions for storing the following \n",
    "within an SQLite database:\n",
    "  \n",
    "* vector features\n",
    "* tile matrix sets of imagery and raster maps at various scales\n",
    "* attributes (non-spatial data)\n",
    "* extensions\n",
    "  \n",
    "Thus GeoPackage can store vector as well as raster data. GeoPackage is by some called \"The Shapefile Killer\".\n",
    "\n",
    "### GeoJSON\n",
    "\n",
    "[GeoJSON](http://geojson.org) is a simple JSON-based format to encode vector Features. \n",
    "It is increasingly popular, especially among web developers. \n",
    "\n",
    "Example:\n",
    "\n",
    "```\n",
    "{\n",
    "  \"type\": \"Feature\",\n",
    "  \"geometry\": {\n",
    "    \"type\": \"Point\",\n",
    "    \"coordinates\": [125.6, 10.1]\n",
    "  },\n",
    "  \"properties\": {\n",
    "    \"name\": \"Dinagat Islands\"\n",
    "    \"population\": 4785\n",
    "  }\n",
    "}\n",
    "```\n",
    "\n",
    "GitHub for example is able to display [GeoJSON-encoded data on-the-fly](https://github.com/jachym/jrdata/blob/master/jsons/stops.geojson).\n",
    "\n",
    "### Geography Markup Language (GML)\n",
    "\n",
    "> The Geography Markup Language (GML) is the XML grammar defined by the Open Geospatial Consortium (OGC) \n",
    "> to express geographical features. GML serves as a modeling language for geographic \n",
    "> systems as well as an open interchange format for geographic transactions on the Internet. Source: [Wikipedia](https://en.wikipedia.org/wiki/Geography_Markup_Language).\n",
    "\n",
    "Below an example of the same feature we saw earlier as GeoJSON, now in GML:\n",
    "\n",
    "```\n",
    "<gml:featureMember>\n",
    "  <feature fid=\"12\">\n",
    "\t<id>23</id>\n",
    "\t<name>Dinagat Islands</name>\n",
    "\t<population>4785</population>\n",
    "\t<ogr:geometry>\n",
    "\t  <gml:Point gml:id=\"p21\" srsName=\"http://www.opengis.net/def/crs/EPSG/0/4326\">\n",
    "        <gml:pos srsDimension=\"2\">125.6, 10.1</gml:pos>\n",
    "      </gml:Point>\n",
    "\t</ogr:geometry>\n",
    "  </feature>\n",
    "</gml:featureMember>\n",
    "```\n",
    "\n",
    "GML is defined as a joint ISO-OGC Standard:\n",
    "\n",
    "> ISO 19136 Geographic information – Geography Markup Language, is a standard from the family \n",
    "> ISO - of the standards for geographic information (ISO 191xx). It resulted from unification \n",
    "> of the Open Geospatial Consortium definitions and Geography Markup Language (GML) with \n",
    "> the ISO-191xx standards. Source: [Wikipedia](https://en.wikipedia.org/wiki/Geography_Markup_Language)\n",
    "\n",
    "*GML Application Schemas* adds a convention to the GML standard to define domain- or community- specific application\n",
    "models. Examples are [CityGML](https://en.wikipedia.org/wiki/CityGML) and schemas developed within [INSPIRE](http://inspire.ec.europa.eu/applicationschema).\n",
    "\n",
    "GML sees quite widespread use, but due to its complexity (e.g. multiple encodings for coordinates and projections) and verbosity, is more and more\n",
    "replaced by GeoJSON.\n",
    "\n",
    "### CSV\n",
    "\n",
    "Of course, you  can save your data in a comma separated values text file.\n",
    "\n",
    "### PostgreSQL/PostGIS database\n",
    "\n",
    "[PostGIS](https://postgis.net) adds support for geographic objects to the PostgreSQL object-relational database. \n",
    "In effect, PostGIS \"spatially enables\" the PostgreSQL server, allowing it to be \n",
    "used as a backend spatial database for geographic information systems (GIS), \n",
    "much like ESRI's SDE or Oracle's Spatial extension. \n",
    "PostGIS follows the OGC [Simple Features Specification for SQL](https://www.opengeospatial.org/standards/sfs) \n",
    "and has been certified as compliant with the \"Types and Functions\" profile. \n",
    "\n",
    "Like said, there are [many more vector formats](https://gdal.org/drivers/vector/index.html).\n",
    "\n",
    "## Vector libraries\n",
    "Within Python there is an ample choice of libraries to interact with vector data. The\n",
    "most popular are:\n",
    "\n",
    "* [Python bindings](https://gdal.org/python/) for [GDAL OGR](https://gdal.org/), a.k.a. \"OGR\"\n",
    "* [Fiona](http://toblerity.org/fiona/manual.html) \n",
    "* [GeoPandas](http://geopandas.org/) \n",
    " \n",
    "This workshop will focus on Fiona and OGR. \n",
    "[Fiona](http://toblerity.org/fiona/) is maintained by [Sean Gillies](https://github.com/sgillies) and adds a utility/wrapper layer on top of OGR in a Pythonic fashion.\n",
    "Compared to Fiona, OGR provides more finegrained control over data, for example reprojections, \n",
    "and supports all GDAL/OGR vector formats."
   ]
  },
  {
   "cell_type": "markdown",
   "metadata": {},
   "source": [
    "## Manipulating features with Fiona and Shapely\n",
    "Fiona and Shapely are often used together.\n",
    "Here we use Fiona \n",
    "to read Vector data (Features) into memory for subsequent Shapely manipulation.\n",
    "\n",
    "Feature geometry can be accessed using the `geometry` property of each feature. For example\n",
    "we can open the dataset that contains a (Multi)Polygon for each country and print\n",
    "out the geometry of the 4th Feature:\n",
    "\n",
    "First we import `Shapely` and its functions and then convert the JSON-encoded geometries to Geometry objects\n",
    "using the `shape` function."
   ]
  },
  {
   "cell_type": "code",
   "execution_count": null,
   "metadata": {
    "pycharm": {
     "name": "#%%\n"
    }
   },
   "outputs": [],
   "source": [
    "import fiona\n",
    "from shapely.geometry import shape\n"
   ]
  },
  {
   "cell_type": "markdown",
   "metadata": {},
   "source": [
    "Next we open a GeoPackage `countries` file and loop through the Features.\n",
    "You may observe the Pythonism that Fiona supplies (using `with` and `as`) to\n",
    "open and loop through Features in a single step."
   ]
  },
  {
   "cell_type": "code",
   "execution_count": null,
   "metadata": {
    "pycharm": {
     "name": "#%%\n"
    }
   },
   "outputs": [],
   "source": [
    "with fiona.open(\"../data/countries.3857.gpkg\") as countries:\n",
    "\tcountry = countries[4]\n",
    "\tprint(\"This is %s\" % country[\"properties\"][\"NAME\"])\n",
    "\tgeom = shape(country[\"geometry\"])\n",
    "  \n",
    "geom # Jupyter can display geometry data directly"
   ]
  },
  {
   "cell_type": "code",
   "execution_count": null,
   "metadata": {
    "pycharm": {
     "name": "#%%\n"
    }
   },
   "outputs": [],
   "source": [
    "print(geom.type)"
   ]
  },
  {
   "cell_type": "code",
   "execution_count": null,
   "metadata": {
    "pycharm": {
     "name": "#%%\n"
    }
   },
   "outputs": [],
   "source": [
    "print(geom.area)"
   ]
  },
  {
   "cell_type": "code",
   "execution_count": null,
   "metadata": {
    "pycharm": {
     "name": "#%%\n"
    }
   },
   "outputs": [],
   "source": [
    "# In km\n",
    "print(geom.length/1000)"
   ]
  },
  {
   "cell_type": "markdown",
   "metadata": {},
   "source": [
    "Let's have a look at some geometry methods. \n",
    "Tip: Shapely code is well-documented, you can always use the Python built-in `help()` function."
   ]
  },
  {
   "cell_type": "code",
   "execution_count": null,
   "metadata": {
    "pycharm": {
     "name": "#%%\n"
    }
   },
   "outputs": [],
   "source": [
    "help(geom)"
   ]
  },
  {
   "cell_type": "markdown",
   "metadata": {},
   "source": [
    "For example we can make a buffer of 500 meter around our polygon (making Canada somewhat bigger):"
   ]
  },
  {
   "cell_type": "code",
   "execution_count": null,
   "metadata": {
    "pycharm": {
     "name": "#%%\n"
    }
   },
   "outputs": [],
   "source": [
    "buffered_geom = geom.buffer(500)\n",
    "buffered_geom"
   ]
  },
  {
   "cell_type": "code",
   "execution_count": null,
   "metadata": {
    "pycharm": {
     "name": "#%%\n"
    }
   },
   "outputs": [],
   "source": [
    "# In km\n",
    "buffered_geom.length/1000"
   ]
  },
  {
   "cell_type": "markdown",
   "metadata": {},
   "source": [
    "### Converting the geometry back to JSON format\n",
    "Once we are finished, we can convert the geometry back to JSON format using `shapely.geometry.mapping` function\n"
   ]
  },
  {
   "cell_type": "code",
   "execution_count": null,
   "metadata": {
    "pycharm": {
     "name": "#%%\n"
    }
   },
   "outputs": [],
   "source": [
    "from shapely.geometry import mapping"
   ]
  },
  {
   "cell_type": "code",
   "execution_count": null,
   "metadata": {
    "pycharm": {
     "name": "#%%\n"
    }
   },
   "outputs": [],
   "source": [
    "# let's create new GeoJSON-encoded vector feature\n",
    "\n",
    "new_feature = {\n",
    "\t\"type\": \"Feature\",\n",
    "\t\"properties\": {\"name\": \"My buffered feature\"},\n",
    "\t\"geometry\": mapping(buffered_geom)\n",
    "}\n",
    "new_feature\n",
    "\n",
    "# Now we could e.g. write the Feature back to file\n"
   ]
  },
  {
   "cell_type": "markdown",
   "metadata": {},
   "source": [
    "## GDAL/OGR Python bindings\n",
    "\n",
    "\n",
    "[OGR](http://gdal.org/ogr) is part of the [GDAL](http://gdal.org/) library for the support of Vector data. \n",
    "OGR supports about [100+ vector formats](https://gdal.org/drivers/vector/index.html) and\n",
    "has more/other functionalities (than Fiona) like reprojection.\n",
    "\n",
    "The OGR API wraps differences between various vector formats, web-services, database etc..\n",
    "The following terminology applies to OGR:\n",
    "\n",
    "* **Driver** - driver for reading and writing for a specified format\n",
    "* **Data Source** - the named data source (file, database, web-service, ...)\n",
    "* **Layer** - data layer within the Data Source (file content, database table, ...)\n",
    "* **Feature** - vector feature\n",
    "* **Field, Geometry** - attributes and geometry\n",
    "\n",
    "The OGR-Python interface is an abstract API on top of the \n",
    "original classes and methods of the original C++ code. \n",
    "Because of this, some approaches may seem complicated, \n",
    "compared to native Python code, like e.g. Fiona.\n",
    "\n",
    "### Links\n",
    "\n",
    "* GDAL OGR Vector API tutorial: https://gdal.org/tutorials/vector_api_tut.html\n",
    "* Python API: http://gdal.org/python/\n",
    "* GDAL/OGR Python Cookbook https://pcjericks.github.io/py-gdalogr-cookbook/ - Recommended!"
   ]
  },
  {
   "cell_type": "markdown",
   "metadata": {},
   "source": [
    "### Buffer\n",
    "First we need to open the *Data Source*, printing the number of Layers."
   ]
  },
  {
   "cell_type": "code",
   "execution_count": null,
   "metadata": {
    "pycharm": {
     "name": "#%%\n"
    }
   },
   "outputs": [],
   "source": [
    "from osgeo import ogr\n",
    "ds = ogr.Open(\"../data/countries.gpkg\")\n",
    "print(ds)\n",
    "print(ds.GetLayerCount())"
   ]
  },
  {
   "cell_type": "markdown",
   "metadata": {},
   "source": [
    "Next we have to fetch and open the *Layer*. NB for files, there is usually just one layer, index `0`, \n",
    "within the Data Source (DS), but for example for a database DS, a Layer is refers to a concrete table)."
   ]
  },
  {
   "cell_type": "code",
   "execution_count": null,
   "metadata": {
    "pycharm": {
     "name": "#%%\n"
    }
   },
   "outputs": [],
   "source": [
    "l = ds.GetLayer(0)\n",
    "print(l)\n",
    "print(l.GetFeatureCount())"
   ]
  },
  {
   "cell_type": "markdown",
   "metadata": {},
   "source": [
    "Show the schema of the layer and the definition of its geometry type:"
   ]
  },
  {
   "cell_type": "code",
   "execution_count": null,
   "metadata": {
    "pycharm": {
     "name": "#%%\n"
    }
   },
   "outputs": [],
   "source": [
    "l.GetGeomType()"
   ]
  },
  {
   "cell_type": "code",
   "execution_count": null,
   "metadata": {
    "pycharm": {
     "name": "#%%\n"
    }
   },
   "outputs": [],
   "source": [
    "l.GetGeomType() == ogr.wkbMultiPolygon"
   ]
  },
  {
   "cell_type": "code",
   "execution_count": null,
   "metadata": {
    "pycharm": {
     "name": "#%%\n"
    }
   },
   "outputs": [],
   "source": [
    "l.schema"
   ]
  },
  {
   "cell_type": "code",
   "execution_count": null,
   "metadata": {
    "pycharm": {
     "name": "#%%\n"
    }
   },
   "outputs": [],
   "source": [
    "l.schema[4].name"
   ]
  },
  {
   "cell_type": "markdown",
   "metadata": {},
   "source": [
    "Print name attribute of all features"
   ]
  },
  {
   "cell_type": "code",
   "execution_count": null,
   "metadata": {
    "pycharm": {
     "name": "#%%\n"
    }
   },
   "outputs": [],
   "source": [
    "features_nr = l.GetFeatureCount()\n",
    "for i in range(features_nr):\n",
    "    f = l.GetNextFeature()\n",
    "    print(f.GetField('NAME'))"
   ]
  },
  {
   "cell_type": "markdown",
   "metadata": {},
   "source": [
    "Get vector feature bounding box (envelope):"
   ]
  },
  {
   "cell_type": "code",
   "execution_count": null,
   "metadata": {
    "pycharm": {
     "name": "#%%\n"
    }
   },
   "outputs": [],
   "source": [
    "f = l.GetFeature(4)\n",
    "geom = f.GetGeometryRef()\n",
    "geom.GetEnvelope()"
   ]
  },
  {
   "cell_type": "markdown",
   "metadata": {},
   "source": [
    "Get geometry centroid"
   ]
  },
  {
   "cell_type": "code",
   "execution_count": null,
   "metadata": {
    "pycharm": {
     "name": "#%%\n"
    }
   },
   "outputs": [],
   "source": [
    "c = geom.Centroid()\n",
    "c.GetPoint()"
   ]
  },
  {
   "cell_type": "markdown",
   "metadata": {},
   "source": [
    "Get geometry buffer"
   ]
  },
  {
   "cell_type": "code",
   "execution_count": null,
   "metadata": {
    "pycharm": {
     "name": "#%%\n"
    }
   },
   "outputs": [],
   "source": [
    "buff = c.Buffer(100)\n",
    "geom.Intersects(buff)"
   ]
  },
  {
   "cell_type": "markdown",
   "metadata": {},
   "source": [
    "### Complete example\n",
    "\n",
    "In this example we will demonstrate working with vector data from begin to\n",
    "end: open a data set, metadata, attribute change, saving of new attribute \n",
    "back to the file. "
   ]
  },
  {
   "cell_type": "code",
   "execution_count": null,
   "metadata": {
    "pycharm": {
     "name": "#%%\n"
    }
   },
   "outputs": [],
   "source": [
    "from osgeo import osr\n",
    "\n",
    "# Creating new file with new driver\n",
    "drv = ogr.GetDriverByName('GML')\n",
    "ds = drv.CreateDataSource('../data/04-ogr-out.gml')\n",
    "srs = osr.SpatialReference()\n",
    "srs.ImportFromEPSG(3857)\n",
    "print(srs.ExportToProj4())\n",
    "layer = ds.CreateLayer('outgml', srs, ogr.wkbLineString)\n",
    "\n",
    "# create new attributes named and code\n",
    "field_name = ogr.FieldDefn('name', ogr.OFTString)\n",
    "field_name.SetWidth(24)\n",
    "field_number = ogr.FieldDefn('code', ogr.OFTInteger)\n",
    "layer.CreateField(field_name)\n",
    "layer.CreateField(field_number)\n",
    "\n",
    "# create new line geometry and read from WKT\n",
    "line = ogr.CreateGeometryFromWkt('LINESTRING(%f %f, %f %f)' % (0, 0, 1, 1))\n",
    "\n",
    "# create new feature, set attributes and geometry\n",
    "feature = ogr.Feature(layer.GetLayerDefn())\n",
    "feature.SetGeometry(line)\n",
    "feature.SetField(\"name\", 'the line')\n",
    "feature.SetField(\"code\", 42)\n",
    "\n",
    "layer.CreateFeature(feature)\n",
    "\n",
    "# final cleaning\n",
    "feature.Destroy()\n",
    "ds.Destroy()"
   ]
  },
  {
   "cell_type": "markdown",
   "metadata": {},
   "source": [
    "now we can check the result"
   ]
  },
  {
   "cell_type": "code",
   "execution_count": null,
   "metadata": {
    "pycharm": {
     "name": "#%%\n"
    }
   },
   "outputs": [],
   "source": [
    "ds = ogr.Open('../data/04-ogr-out.gml')\n",
    "layer = ds.GetLayer(0)\n",
    "print(layer.GetFeatureCount())\n",
    "print(layer.GetFeature(0).GetField('name'))\n",
    "ds.Destroy()"
   ]
  },
  {
   "cell_type": "markdown",
   "metadata": {
    "pycharm": {
     "name": "#%% md\n"
    }
   },
   "source": [
    "## Fiona or GDAL/OGR?\n",
    "With Fiona, the above example would be much simpler and Pythonic. \n",
    "However, OGR accesses the data on a much lower/efficient level compared to Fiona, \n",
    "therefore bigger datasets can be more easily handled. Also OGR supports more data formats and\n",
    "functionality like reprojection.\n",
    "\n",
    "We recommend to have both Fiona (plus Shapely) and OGR in your toolbox\n",
    "and assess at project-time which to apply."
   ]
  },
  {
   "cell_type": "markdown",
   "metadata": {},
   "source": [
    "---\n",
    "[<- Projections](03-projections.ipynb) | [Raster data ->](05-raster-data.ipynb)\n"
   ]
  }
 ],
 "metadata": {
  "kernelspec": {
   "display_name": "Python 3",
   "language": "python",
   "name": "python3"
  },
  "language_info": {
   "codemirror_mode": {
    "name": "ipython",
    "version": 3
   },
   "file_extension": ".py",
   "mimetype": "text/x-python",
   "name": "python",
   "nbconvert_exporter": "python",
   "pygments_lexer": "ipython3",
   "version": "3.7.3"
  },
  "pycharm": {
   "stem_cell": {
    "cell_type": "raw",
    "metadata": {
     "collapsed": false
    },
    "source": []
   }
  }
 },
 "nbformat": 4,
 "nbformat_minor": 2
}
