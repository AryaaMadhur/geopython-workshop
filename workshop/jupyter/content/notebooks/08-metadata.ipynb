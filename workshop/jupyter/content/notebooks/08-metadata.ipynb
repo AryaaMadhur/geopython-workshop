{
 "cells": [
  {
   "cell_type": "markdown",
   "metadata": {},
   "source": [
    "# Metadata"
   ]
  },
  {
   "cell_type": "markdown",
   "metadata": {},
   "source": [
    "## Overview\n",
    "At its core, metadata is data about data.  In day-to-day GIS data management workflows, data is created, updated,\n",
    "archived and used for various decision support systems.  Part of the information management lifecycle of data includes maintenance, protection and preservation, as well as facilitating discovery.  Metadata serves to meet these requirements."
   ]
  },
  {
   "cell_type": "markdown",
   "metadata": {},
   "source": [
    "## Core concepts\n",
    "Documentation is critical in order to describe:\n",
    "\n",
    "- who is responsible and who to contact for the data\n",
    "- what the data represents (features, grids, etc.)\n",
    "- where the data is located\n",
    "- when the data was created, updated and what time span is the data based on\n",
    "- why the data exists\n",
    "- how the data was generated"
   ]
  },
  {
   "cell_type": "markdown",
   "metadata": {},
   "source": [
    "## Standards\n",
    "There are numerous standards that exist in support of documenting data.  The [Dublin Core](http://dublincore.org) standard provides 16 core elements to describe any resource.  The [OGC Catalogue Service for the Web](https://opengeospatial.org/standards/cat) leverages Dublin Core in providing a core metadata model for geospatial catalogues and search.\n",
    "\n",
    "The geospatial community has had long standing efforts around developing metadata standards for geospatial data, including (but not limited to) [FGDC CSDGM](https://www.fgdc.gov/metadata/csdgm-standard), [DIF](https://earthdata.nasa.gov/esdis/eso/standards-and-references/directory-interchange-format-dif-standard), and [ISO 19115](https://www.iso.org/standard/26020.html).  Using these standards to generate geospatial metadata provides value for easy integration into geospatial search catalogues and desktop GIS tools to help organize, categorize and find geospatial data.  The challenge of geospatial metadata remains in its complexity.  Tools are need to easily create and manage geospatial metadata."
   ]
  },
  {
   "cell_type": "markdown",
   "metadata": {},
   "source": [
    "## Easy metadata workflows with pygeometa\n",
    "[pygeometa](https://github.com/geopython/pygeometa) provides a lightweight toolkit allowing users to easily create geospatial metadata in standards-based formats using simple configuration files (affectionately called metadata control files [MCF]).  Leveraging the simple but powerful YAML format, pygeometa can generate metadata in numerous standards.  Users can also create their own custom metadata formats which can be plugged into pygeometa for custom metadata format output.\n",
    "\n",
    "For developers, pygeometa provides an intuitive Python API that allows Python developers to tightly couple metadata generation within their systems."
   ]
  },
  {
   "cell_type": "markdown",
   "metadata": {},
   "source": [
    "## Creating metadata\n",
    "\n",
    "\n",
    "Let's walk through examples of using pygeometa on the command line as well the API."
   ]
  },
  {
   "cell_type": "markdown",
   "metadata": {},
   "source": [
    "Let's start with the CLI."
   ]
  },
  {
   "cell_type": "code",
   "execution_count": null,
   "metadata": {},
   "outputs": [],
   "source": [
    "!pygeometa"
   ]
  },
  {
   "cell_type": "code",
   "execution_count": null,
   "metadata": {},
   "outputs": [],
   "source": [
    "!cat ../data/countries.yml"
   ]
  },
  {
   "cell_type": "code",
   "execution_count": null,
   "metadata": {},
   "outputs": [],
   "source": [
    "!pygeometa generate-metadata --mcf ../data/countries.yml --schema iso19139 --output /tmp/countries.xml"
   ]
  },
  {
   "cell_type": "code",
   "execution_count": null,
   "metadata": {},
   "outputs": [],
   "source": [
    "!cat /tmp/countries.xml"
   ]
  },
  {
   "cell_type": "markdown",
   "metadata": {},
   "source": [
    "Now let's use the API to make some updates"
   ]
  },
  {
   "cell_type": "code",
   "execution_count": null,
   "metadata": {},
   "outputs": [],
   "source": [
    "from pygeometa.core import read_mcf, render_template\n",
    "mdata = read_mcf('../data/countries.yml')\n",
    "mdata"
   ]
  },
  {
   "cell_type": "code",
   "execution_count": null,
   "metadata": {},
   "outputs": [],
   "source": [
    "mdata['identification']['title']"
   ]
  },
  {
   "cell_type": "markdown",
   "metadata": {},
   "source": [
    "Let's change the dataset title"
   ]
  },
  {
   "cell_type": "code",
   "execution_count": null,
   "metadata": {},
   "outputs": [],
   "source": [
    "mdata['identification']['title'] = 'Countries of the world'"
   ]
  },
  {
   "cell_type": "code",
   "execution_count": null,
   "metadata": {},
   "outputs": [],
   "source": [
    "xml_string = render_template(mdata, schema='iso19139')"
   ]
  },
  {
   "cell_type": "code",
   "execution_count": null,
   "metadata": {
    "scrolled": false
   },
   "outputs": [],
   "source": [
    "print(xml_string)"
   ]
  },
  {
   "cell_type": "markdown",
   "metadata": {},
   "source": [
    "Now try updating the `mdata` variable (`dict`) with updated values and use the pygeometa API to generate a new ISO XML.\n",
    "\n",
    "---\n",
    "[<- Visualization](07-visualization.ipynb) | [Publishing ->](09-publishing.ipynb)"
   ]
  }
 ],
 "metadata": {
  "kernelspec": {
   "display_name": "Python 3",
   "language": "python",
   "name": "python3"
  },
  "language_info": {
   "codemirror_mode": {
    "name": "ipython",
    "version": 3
   },
   "file_extension": ".py",
   "mimetype": "text/x-python",
   "name": "python",
   "nbconvert_exporter": "python",
   "pygments_lexer": "ipython3",
   "version": "3.7.3"
  }
 },
 "nbformat": 4,
 "nbformat_minor": 2
}
