{
 "cells": [
  {
   "cell_type": "markdown",
   "metadata": {},
   "source": [
    "# Geometries\n",
    "\n",
    "This lesson brings you a bit back to highschool math: (Euclidian) Geometry, \n",
    "hopefully with more fun as within (geo)spatial IT we usually deal with\n",
    "real-world artifacts (roads, lakes, forests etc).\n",
    "\n",
    "From [Wikipedia](https://en.wikipedia.org/wiki/Geometry): \n",
    "\n",
    "  Geometry (from the Ancient Greek: γεωμετρία; geo- \"earth\", -metron \"measurement\") \n",
    "  is a branch of mathematics concerned with questions of shape, size, relative \n",
    "  position of figures, and the properties of space.\n",
    "\n",
    "Within the geospatial domain we mainly deal with **Geometries** (at least for Vector data)\n",
    "where some of the above math applies. Vector data is encoded with coordinates \n",
    "mostly X, Y (sometimes also Z for 3D) and used to represent **three basic Geometry types**: \n",
    "\n",
    "* Points\n",
    "* Lines (a.k.a. LineStrings, Curves)\n",
    "* Polygons (a.k.a. Surfaces)\n",
    "\n",
    "These are used to represent phenomenons like: \n",
    "\n",
    "* city centers, Point of Interests, ... (PoI)  (Points)\n",
    "* roads, rivers, ... (Lines)\n",
    "* forests, lakes, countries, ... (Polygons)\n",
    "\n",
    "To make it a bit more complex: these three basic Geometries are often extended and even\n",
    "combined to form collections called **\"Multi\" Geometries**:\n",
    " \n",
    "* a collections of Points is called a *MultiPoint*\n",
    "* a collection of Lines is called a *MultiLine* (a.k.a. *MultiLineString*) \n",
    "* a collection of Polygons is called a  *MultiPolygon* (a.k.a. *MultiSurface*)  \n",
    "\n",
    "These collections are useful for modeling certain kinds of features. \n",
    "A road or river with all its bends is typically a *MultiLine*.\n",
    "A country like Greece, The Netherlands or Canada is typically \n",
    "a *MultiPolygon* (think of: mainland + islands)\n",
    "\n",
    "We will be mainly working with [Shapely](http://toblerity.org/shapely/manual.html), a Python package for \n",
    "set-theoretic analysis and manipulation of, yes, Geometries!\n",
    "Shapely provides a Spatial Data Model (see image below) that basically implements\n",
    "the above Geometry types plus their variants and the (mathematic) manipulations on these.\n",
    " \n",
    "![Spatial data model](images/spatialdatamodel.png)\n",
    "*Fundamental geometric objects that can be used in Python with* [Shapely](http://toblerity.org/shapely/manual.html) *module*\n",
    "\n",
    "## Background Reading\n",
    "\n",
    "* https://en.wikipedia.org/wiki/Geometry\n",
    "* The Shapely User Manual: https://shapely.readthedocs.io/en/stable/manual.html\n",
    "* https://automating-gis-processes.github.io/CSC/notebooks/L1/geometric-objects.html\n",
    "* Spatial Relations: [Dimensionally Extended nine-Intersection Model (DE-9IM)](https://en.wikipedia.org/wiki/DE-9IM)\n",
    "\n",
    "## Shapely Basics"
   ]
  },
  {
   "cell_type": "markdown",
   "metadata": {},
   "source": [
    "Shapely is concerned with Geometries in general, not necessarily Geospatial.\n",
    "As such we can introduce Shapely basics, using the well-known Euclidian X,Y plane.\n",
    "\n",
    "### Shapely Points"
   ]
  },
  {
   "cell_type": "code",
   "execution_count": null,
   "metadata": {
    "pycharm": {
     "name": "#%%\n"
    }
   },
   "outputs": [],
   "source": [
    "from shapely.geometry import Point\n",
    "\n",
    "point1 = Point(0.0, 0.0)\n"
   ]
  },
  {
   "cell_type": "code",
   "execution_count": null,
   "metadata": {
    "pycharm": {
     "name": "#%%\n"
    }
   },
   "outputs": [],
   "source": [
    "point1.area\n"
   ]
  },
  {
   "cell_type": "code",
   "execution_count": null,
   "metadata": {
    "pycharm": {
     "name": "#%%\n"
    }
   },
   "outputs": [],
   "source": [
    "point1.length\n"
   ]
  },
  {
   "cell_type": "code",
   "execution_count": null,
   "metadata": {
    "pycharm": {
     "name": "#%%\n"
    }
   },
   "outputs": [],
   "source": [
    "point1.wkt\n"
   ]
  },
  {
   "cell_type": "code",
   "execution_count": null,
   "metadata": {
    "pycharm": {
     "name": "#%%\n"
    }
   },
   "outputs": [],
   "source": [
    "\n",
    "point2 = Point(3, 4)\n",
    "\n",
    "point1.distance(point2)\n"
   ]
  },
  {
   "cell_type": "markdown",
   "metadata": {},
   "source": [
    "### Shapely LineStrings\n"
   ]
  },
  {
   "cell_type": "code",
   "execution_count": null,
   "metadata": {
    "pycharm": {
     "name": "#%%\n"
    }
   },
   "outputs": [],
   "source": [
    "from shapely.geometry import LineString\n",
    "line = LineString([(0, 0), (3, 4)])\n"
   ]
  },
  {
   "cell_type": "code",
   "execution_count": null,
   "metadata": {
    "pycharm": {
     "name": "#%%\n"
    }
   },
   "outputs": [],
   "source": [
    "line.area\n"
   ]
  },
  {
   "cell_type": "code",
   "execution_count": null,
   "metadata": {
    "pycharm": {
     "name": "#%%\n"
    }
   },
   "outputs": [],
   "source": [
    "line.length\n"
   ]
  },
  {
   "cell_type": "markdown",
   "metadata": {},
   "source": [
    "### Shapely Polygons\n"
   ]
  },
  {
   "cell_type": "code",
   "execution_count": null,
   "metadata": {
    "pycharm": {
     "name": "#%%\n"
    }
   },
   "outputs": [],
   "source": [
    "from shapely.geometry import Polygon\n",
    "polygon = Polygon([(0, 0), (3, 4), (3, 0)])\n",
    "polygon\n"
   ]
  },
  {
   "cell_type": "code",
   "execution_count": 60,
   "metadata": {
    "pycharm": {
     "name": "#%%\n"
    }
   },
   "outputs": [
    {
     "data": {
      "text/plain": [
       "[(0.0, 0.0), (3.0, 4.0), (3.0, 0.0), (0.0, 0.0)]"
      ]
     },
     "execution_count": 60,
     "metadata": {},
     "output_type": "execute_result"
    }
   ],
   "source": [
    "# Convert coordinates to list\n",
    "# polygon.coords does not exist!\n",
    "list(polygon.exterior.coords)\n"
   ]
  },
  {
   "cell_type": "code",
   "execution_count": null,
   "metadata": {
    "pycharm": {
     "name": "#%%\n"
    }
   },
   "outputs": [],
   "source": [
    "polygon.area\n"
   ]
  },
  {
   "cell_type": "code",
   "execution_count": null,
   "metadata": {
    "pycharm": {
     "name": "#%%\n"
    }
   },
   "outputs": [],
   "source": [
    "polygon.length\n"
   ]
  },
  {
   "cell_type": "code",
   "execution_count": null,
   "metadata": {
    "pycharm": {
     "name": "#%%\n"
    }
   },
   "outputs": [],
   "source": [
    "# Its x-y bounding box is a (minx, miny, maxx, maxy) tuple.\n",
    "\n",
    "polygon.bounds\n"
   ]
  },
  {
   "cell_type": "markdown",
   "metadata": {
    "pycharm": {
     "name": "#%% md\n"
    }
   },
   "source": [
    "### About Projections and Shapely\n",
    "In Shapely, the distance is the Euclidean Distance or \n",
    "Linear distance (Pythagoras Law!) between two points on a plane and not the \n",
    "[Great-circle distance](http://en.wikipedia.org/wiki/Great-circle_distance) between two points on a sphere!\n",
    "If you are working with data in WGS84 (EPSG:4326), 'lat/lon' (think of GPS coordinates) in degrees,\n",
    "Shapely's calculations like `length` and `area` will not be what you would expect. \n",
    "\n",
    "We have several options (see also [this SE discussion](https://gis.stackexchange.com/questions/80881/what-is-unit-of-shapely-length-attribute)):\n",
    "\n",
    "* add-hoc: calculate the [Great Circle Distance](https://en.wikipedia.org/wiki/Great-circle_distance), using functions for the [Haversine Formula](https://en.wikipedia.org/wiki/Haversine_formula) or [Law of Cosines](https://en.wikipedia.org/wiki/Spherical_law_of_cosines).\n",
    "* reproject your source data to a 'metric' projection like Web Mercator (EPSG:3857, worldwide, used for tiles by Google, OSM and others) using e.g. GDAL or GeoPandas (uses `pyproj`). \n",
    "* use `pyproj` directly to apply the proper formulas\n",
    "\n",
    "Below an example to illustrate:\n"
   ]
  },
  {
   "cell_type": "code",
   "execution_count": null,
   "metadata": {
    "pycharm": {
     "name": "#%%\n"
    }
   },
   "outputs": [],
   "source": [
    "from shapely.geometry import Point\n",
    "import pyproj\n",
    "\n",
    "point1 = Point(50.67, 4.62)\n",
    "point2 = Point(51.67, 4.64)\n",
    "\n",
    "# Shapely Distance in degrees\n",
    "point1.distance(point2)"
   ]
  },
  {
   "cell_type": "code",
   "execution_count": null,
   "metadata": {
    "pycharm": {
     "name": "#%%\n"
    }
   },
   "outputs": [],
   "source": [
    "geod = pyproj.Geod(ellps='WGS84')\n",
    "angle1,angle2,distance = geod.inv(point1.x, point1.y, point2.x, point2.y)\n",
    "\n",
    "# \"Real\" Distance in km\n",
    "distance/1000.0\n",
    "    "
   ]
  },
  {
   "cell_type": "markdown",
   "metadata": {},
   "source": [
    "## More About Shapely  \n",
    "\n",
    "[Shapely](http://toblerity.org/shapely/manual.html) is a Python package for \n",
    "set-theoretic analysis and manipulation of planar features using (via Python’s ctypes module) \n",
    "functions from the well-known and widely deployed [GEOS library](http://trac.osgeo.org/geos). \n",
    "GEOS, a port of the [JTS Topology Suite](http://www.tsusiatsoftware.net/jts/main.html) (JTS), \n",
    "is the geometry engine of the PostGIS spatial extension for the PostgreSQL RDBMS.\n",
    " \n",
    "The designs of JTS and GEOS are largely guided by the \n",
    "Open Geospatial Consortium‘s (OGC) and ISO 19125 \n",
    "*Simple Features (Access) Specification* [ref](https://en.wikipedia.org/wiki/Simple_Features). \n",
    "Shapely adheres mainly to the same set of standard classes and operations. \n",
    "Shapely is thereby deeply rooted in the conventions of the geographic information systems (GIS) world, \n",
    "but aspires to be equally useful to programmers working on non-conventional problems."
   ]
  },
  {
   "cell_type": "markdown",
   "metadata": {},
   "source": [
    "With Shapely, we can solve tasks like\n",
    "\n",
    "* What is the area of The Netherlands?\n",
    "* What is the distance between Amsterdam and Athens?\n",
    "* How long is The Donau?\n",
    "* Do two features overlap or intersect? Does the Donau float through Romania?\n",
    "* How does the common area of two features look like?\n",
    "* Create a buffer area around the feature.\n",
    "* ...\n",
    "\n",
    "Thus before revoking to advanced analysis tools, already some powerful GIS-questions can be solved with Shapely!\n"
   ]
  },
  {
   "cell_type": "markdown",
   "metadata": {},
   "source": [
    "### Converting JSON to geometry objects\n",
    "Fiona will be treated in a next lesson. Here we mainly use Fiona \n",
    "to read Vector data (Features) into memory for subsequent Shapely manipulation.\n",
    "\n",
    "Feature geometry can be accessed using the `geometry` property of each feature, for example\n",
    "we can open the dataset that contains a (Multi)Polygon for each country and print\n",
    "out the geometry of the 10th Feature:\n",
    "\n",
    "First we import `Shapely` and its functions and then convert the JSON-encoded geometries to Geometry objects\n",
    "using the `shape` function."
   ]
  },
  {
   "cell_type": "code",
   "execution_count": null,
   "metadata": {
    "pycharm": {
     "name": "#%%\n"
    }
   },
   "outputs": [],
   "source": [
    "import fiona\n",
    "from shapely.geometry import shape\n",
    "\n",
    "with fiona.open(\"../data/countries.3857.gpkg\") as countries:\n",
    "\tcountry = countries[4]\n",
    "\tprint(\"This is %s\" % country[\"properties\"][\"NAME\"])\n",
    "\tgeom = shape(country[\"geometry\"])\n",
    "  \n",
    "geom # Jupyter can display geometry data directly"
   ]
  },
  {
   "cell_type": "code",
   "execution_count": null,
   "metadata": {
    "pycharm": {
     "name": "#%%\n"
    }
   },
   "outputs": [],
   "source": [
    "print(geom.type)"
   ]
  },
  {
   "cell_type": "code",
   "execution_count": null,
   "metadata": {
    "pycharm": {
     "name": "#%%\n"
    }
   },
   "outputs": [],
   "source": [
    "print(geom.area)"
   ]
  },
  {
   "cell_type": "code",
   "execution_count": null,
   "metadata": {
    "pycharm": {
     "name": "#%%\n"
    }
   },
   "outputs": [],
   "source": [
    "# In km\n",
    "print(geom.length/1000)"
   ]
  },
  {
   "cell_type": "markdown",
   "metadata": {},
   "source": [
    "Let's have a look at some geometry methods. \n",
    "Tip: Shapely code is well-documented, you can always use the Python built-in `help()` function."
   ]
  },
  {
   "cell_type": "code",
   "execution_count": null,
   "metadata": {
    "pycharm": {
     "name": "#%%\n"
    }
   },
   "outputs": [],
   "source": [
    "help(geom)"
   ]
  },
  {
   "cell_type": "markdown",
   "metadata": {},
   "source": [
    "For example we can make a buffer of 500 meter around our polygon (making Canada somewhat bigger):"
   ]
  },
  {
   "cell_type": "code",
   "execution_count": null,
   "metadata": {
    "pycharm": {
     "name": "#%%\n"
    }
   },
   "outputs": [],
   "source": [
    "buffered_geom = geom.buffer(500)\n",
    "buffered_geom"
   ]
  },
  {
   "cell_type": "code",
   "execution_count": null,
   "metadata": {
    "pycharm": {
     "name": "#%%\n"
    }
   },
   "outputs": [],
   "source": [
    "# In km\n",
    "buffered_geom.length/1000"
   ]
  },
  {
   "cell_type": "markdown",
   "metadata": {},
   "source": [
    "## Converting the geometry back to JSON format\n",
    "Once we are finished, we can convert the geometry back to JSON format using `shapely.geometry.mapping` function\n"
   ]
  },
  {
   "cell_type": "code",
   "execution_count": null,
   "metadata": {
    "pycharm": {
     "name": "#%%\n"
    }
   },
   "outputs": [],
   "source": [
    "from shapely.geometry import mapping"
   ]
  },
  {
   "cell_type": "code",
   "execution_count": null,
   "metadata": {
    "pycharm": {
     "name": "#%%\n"
    }
   },
   "outputs": [],
   "source": [
    "# let's create new GeoJSON-encoded vector feature\n",
    "\n",
    "new_feature = {\n",
    "\t\"type\": \"Feature\",\n",
    "\t\"properties\": {\"name\": \"My buffered feature\"},\n",
    "\t\"geometry\": mapping(buffered_geom)\n",
    "}\n",
    "new_feature\n",
    "\n",
    "# Now we could e.g. write the Feature back to file\n"
   ]
  },
  {
   "cell_type": "markdown",
   "source": [
    "## Lightweight Analysis with Shapely\n",
    "Let's explore some of Shapely's functions for *(Topological) Spatial Relationships*.\n",
    "See simplified view below, more [on Wikipedia](https://en.wikipedia.org/wiki/Spatial_relation).\n",
    "\n",
    "![(Topological) Spatial Relationships](images/spatialrelations.png)\n",
    "*Examples of topological spatial relations - [By Krauss - Own work, CC BY-SA 3.0](https://commons.wikimedia.org/w/index.php?curid=21299138)*\n",
    " \n",
    "\n",
    "If you want to dive into\n",
    "a theoretical background, check out the [Dimensionally Extended nine-Intersection Model (DE-9IM)](https://en.wikipedia.org/wiki/DE-9IM). \n",
    "\n",
    "We'll start simple, answering the question: **Does the Donau float through Romenia?**. We'll use two National Earth datasets: Rivers and lakes\n",
    "(LineStrings) and (Admin-0) Countries. In spatial \n",
    "relationship-terms: *Is the (Multi)LineString representing the Donau crossing the (Multi)Polygon representing Romenia?\"* \n",
    "\n",
    "We will follow these steps:\n",
    "\n",
    "* read the Rivers and Lakes dataset\n",
    "* extract the Donau feature Geometry  \n",
    "* read the Countries dataset\n",
    "* extract the Romania feature Geometry  \n",
    "* apply the Shapely `crosses` function\n",
    "* advanced: list all DE-9IM relations of the two geometries\n",
    "* advanced: through which countries does the Donau float?\n"
   ],
   "metadata": {
    "collapsed": false
   }
  },
  {
   "cell_type": "code",
   "execution_count": null,
   "outputs": [],
   "source": [
    "import fiona\n",
    "from shapely.geometry import shape\n"
   ],
   "metadata": {
    "collapsed": false,
    "pycharm": {
     "name": "#%%\n"
    }
   }
  },
  {
   "cell_type": "markdown",
   "source": [
    "### Fetch the Donau geometry.\n"
   ],
   "metadata": {
    "collapsed": false
   }
  },
  {
   "cell_type": "code",
   "execution_count": null,
   "outputs": [],
   "source": [
    "with fiona.open(\"../data/rivers_lake_centerlines.gpkg\") as rivers_lakes:\n",
    "\tfor feature in rivers_lakes:\n",
    "\t\tif feature['properties']['name'] == 'Donau':\n",
    "\t\t\tdonau_geom = shape(feature[\"geometry\"])\n",
    "\t\t\tprint('Found Donau! geom type: %s' % donau_geom.type)\n",
    "\t\t\tbreak\n"
   ],
   "metadata": {
    "collapsed": false,
    "pycharm": {
     "name": "#%%\n"
    }
   }
  },
  {
   "cell_type": "markdown",
   "source": [
    "### Fetch the Romania geometry.\n"
   ],
   "metadata": {
    "collapsed": false
   }
  },
  {
   "cell_type": "code",
   "execution_count": null,
   "outputs": [],
   "source": [
    "with fiona.open(\"../data/countries.json\") as countries:\n",
    "\tfor feature in countries:\n",
    "\t\tif feature[\"properties\"][\"NAME\"] == \"Romania\":\n",
    "\t\t\tromania_geom = shape(feature[\"geometry\"])\n",
    "\t\t\tprint('Found Romania! geom type: %s' % romania_geom.type)\n",
    "\t\t\tbreak\n"
   ],
   "metadata": {
    "collapsed": false,
    "pycharm": {
     "name": "#%%\n"
    }
   }
  },
  {
   "cell_type": "markdown",
   "source": [
    "### Does the Donau float through Romenia?\n"
   ],
   "metadata": {
    "collapsed": false
   }
  },
  {
   "cell_type": "code",
   "execution_count": null,
   "outputs": [],
   "source": [
    "donau_geom.crosses(romania_geom)\n"
   ],
   "metadata": {
    "collapsed": false,
    "pycharm": {
     "name": "#%%\n"
    }
   }
  },
  {
   "cell_type": "markdown",
   "source": [
    "### List the (DE-9IM) relationships.\n"
   ],
   "metadata": {
    "collapsed": false
   }
  },
  {
   "cell_type": "code",
   "execution_count": null,
   "outputs": [],
   "source": [
    "donau_geom.relate(romania_geom)\n"
   ],
   "metadata": {
    "collapsed": false,
    "pycharm": {
     "name": "#%%\n"
    }
   }
  },
  {
   "cell_type": "markdown",
   "source": [
    "### Through which countries does the Donau float?\n"
   ],
   "metadata": {
    "collapsed": false
   }
  },
  {
   "cell_type": "code",
   "execution_count": null,
   "outputs": [],
   "source": [
    "print(\"The Donau floats through:\")\n",
    "\n",
    "with fiona.open(\"../data/countries.gpkg\") as countries:\n",
    "\tfor feature in countries:\n",
    "\t\tcountry_geom = shape(feature[\"geometry\"])\n",
    "\t\tif donau_geom.crosses(country_geom):\n",
    "\t\t\tprint(feature[\"properties\"][\"NAME\"])\n",
    "  "
   ],
   "metadata": {
    "collapsed": false,
    "pycharm": {
     "name": "#%%\n"
    }
   }
  },
  {
   "cell_type": "markdown",
   "metadata": {},
   "source": [
    "---\n",
    "[<- Introduction](01-introduction.ipynb) | [Projections ->](03-projections.ipynb)"
   ]
  }
 ],
 "metadata": {
  "kernelspec": {
   "display_name": "Python 3",
   "language": "python",
   "name": "python3"
  },
  "language_info": {
   "codemirror_mode": {
    "name": "ipython",
    "version": 3
   },
   "file_extension": ".py",
   "mimetype": "text/x-python",
   "name": "python",
   "nbconvert_exporter": "python",
   "pygments_lexer": "ipython3",
   "version": "3.7.3"
  },
  "pycharm": {
   "stem_cell": {
    "cell_type": "raw",
    "source": [],
    "metadata": {
     "collapsed": false
    }
   }
  }
 },
 "nbformat": 4,
 "nbformat_minor": 2
}