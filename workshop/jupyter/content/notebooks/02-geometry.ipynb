{
 "cells": [
  {
   "cell_type": "markdown",
   "metadata": {},
   "source": [
    "# Geometry\n",
    "\n",
    "This lesson brings you a bit back to highschool math: (Euclidian) Geometry, \n",
    "hopefully with more fun as within (geo)spatial IT we usually deal with\n",
    "real-world artifacts (roads, lakes, forests etc).\n",
    "\n",
    "From [Wikipedia](https://en.wikipedia.org/wiki/Geometry): \n",
    "\n",
    "> *Geometry (from the Ancient Greek: γεωμετρία; geo- \"earth\", -metron \"measurement\")* \n",
    "> *is a branch of mathematics concerned with questions of shape, size, relative* \n",
    "> *position of figures, and the properties of space.*\n",
    "\n",
    "Within the geospatial domain we mainly deal with **Geometries** (at least for Vector data)\n",
    "where the above math applies. Vector data is encoded with coordinates \n",
    "mostly X, Y (sometimes also Z for 3D) and used to represent **three basic Geometry types**: \n",
    "\n",
    "* Points\n",
    "* Lines (a.k.a. LineStrings, Curves)\n",
    "* Polygons (a.k.a. Surfaces)\n",
    "\n",
    "These are used to represent phenomenons like: \n",
    "\n",
    "* city centers, Point of Interests (PoIs), ...   (Points)\n",
    "* roads, rivers, ... (Lines)\n",
    "* forests, lakes, countries, ... (Polygons)\n",
    "\n",
    "To make it a bit more complex: these three basic Geometries are often extended and even\n",
    "combined to form collections called **\"Multi\" Geometries**:\n",
    " \n",
    "* a collection of Points is called a *MultiPoint*\n",
    "* a collection of Lines is called a *MultiLine* (a.k.a. *MultiLineString*) \n",
    "* a collection of Polygons is called a  *MultiPolygon* (a.k.a. *MultiSurface*)  \n",
    "\n",
    "These collections are useful for modeling certain kinds of features. \n",
    "A collection of borders for a country typically a *MultiLine(String)* (think of UK with Ulster).\n",
    "A country like Greece, The Netherlands or Canada is typically \n",
    "a *MultiPolygon* (think of: mainland + islands).\n",
    "\n",
    "We will be working mainly with [Shapely](http://toblerity.org/shapely/manual.html), a Python package for \n",
    "set-theoretic analysis and manipulation of, yes, Geometries!\n",
    "Shapely provides a Spatial Data Model (see image below) that basically implements\n",
    "the above Geometry types plus their variants and the (mathematic) manipulations on these.\n",
    " \n",
    "![Spatial data model](images/spatialdatamodel.png)\n",
    "*Fundamental geometric objects that can be used in Python with* [Shapely](http://toblerity.org/shapely/manual.html) *module*\n",
    "\n",
    "## Background Reading\n",
    "\n",
    "* https://en.wikipedia.org/wiki/Geometry\n",
    "* The Shapely User Manual: https://shapely.readthedocs.io/en/stable/manual.html\n",
    "* https://automating-gis-processes.github.io/CSC/notebooks/L1/geometric-objects.html\n",
    "* Spatial Relations: [Dimensionally Extended nine-Intersection Model (DE-9IM)](https://en.wikipedia.org/wiki/DE-9IM)\n"
   ]
  },
  {
   "cell_type": "markdown",
   "metadata": {},
   "source": [
    "## Shapely Basics\n",
    "Shapely is concerned with Geometries in general, not necessarily Geospatial geometries.\n",
    "As such we can introduce Shapely basics, using the well-known Euclidian X,Y plane.\n",
    "\n",
    "### Shapely Points"
   ]
  },
  {
   "cell_type": "code",
   "execution_count": null,
   "metadata": {
    "pycharm": {
     "name": "#%%\n"
    }
   },
   "outputs": [],
   "source": [
    "from shapely.geometry import Point\n",
    "\n",
    "point1 = Point(0.0, 0.0)\n"
   ]
  },
  {
   "cell_type": "code",
   "execution_count": null,
   "metadata": {
    "pycharm": {
     "name": "#%%\n"
    }
   },
   "outputs": [],
   "source": [
    "point1.area\n"
   ]
  },
  {
   "cell_type": "code",
   "execution_count": null,
   "metadata": {
    "pycharm": {
     "name": "#%%\n"
    }
   },
   "outputs": [],
   "source": [
    "point1.length\n"
   ]
  },
  {
   "cell_type": "code",
   "execution_count": null,
   "metadata": {
    "pycharm": {
     "name": "#%%\n"
    }
   },
   "outputs": [],
   "source": [
    "# Show Well-Known Text (WKT) representation\n",
    "point1.wkt\n"
   ]
  },
  {
   "cell_type": "code",
   "execution_count": null,
   "metadata": {
    "pycharm": {
     "name": "#%%\n"
    }
   },
   "outputs": [],
   "source": [
    "\n",
    "point2 = Point(3, 4)\n",
    "\n",
    "# Pythagoras Theorem here!\n",
    "point1.distance(point2)\n"
   ]
  },
  {
   "cell_type": "markdown",
   "metadata": {},
   "source": [
    "### Shapely LineStrings\n"
   ]
  },
  {
   "cell_type": "code",
   "execution_count": null,
   "metadata": {
    "pycharm": {
     "name": "#%%\n"
    }
   },
   "outputs": [],
   "source": [
    "from shapely.geometry import LineString\n",
    "line = LineString([(0, 0), (3, 4)])\n"
   ]
  },
  {
   "cell_type": "code",
   "execution_count": null,
   "metadata": {
    "pycharm": {
     "name": "#%%\n"
    }
   },
   "outputs": [],
   "source": [
    "line.area\n"
   ]
  },
  {
   "cell_type": "code",
   "execution_count": null,
   "metadata": {
    "pycharm": {
     "name": "#%%\n"
    }
   },
   "outputs": [],
   "source": [
    "line.length\n"
   ]
  },
  {
   "cell_type": "markdown",
   "metadata": {},
   "source": [
    "### Shapely Polygons\n"
   ]
  },
  {
   "cell_type": "code",
   "execution_count": null,
   "metadata": {
    "pycharm": {
     "name": "#%%\n"
    }
   },
   "outputs": [],
   "source": [
    "from shapely.geometry import Polygon\n",
    "polygon = Polygon([(0, 0), (3, 4), (3, 0)])\n",
    "polygon\n"
   ]
  },
  {
   "cell_type": "code",
   "execution_count": null,
   "metadata": {
    "pycharm": {
     "name": "#%%\n"
    }
   },
   "outputs": [],
   "source": [
    "# Convert coordinates to list\n",
    "# polygon.coords does not exist!\n",
    "list(polygon.exterior.coords)\n"
   ]
  },
  {
   "cell_type": "code",
   "execution_count": null,
   "metadata": {
    "pycharm": {
     "name": "#%%\n"
    }
   },
   "outputs": [],
   "source": [
    "polygon.area\n"
   ]
  },
  {
   "cell_type": "code",
   "execution_count": null,
   "metadata": {
    "pycharm": {
     "name": "#%%\n"
    }
   },
   "outputs": [],
   "source": [
    "polygon.length\n"
   ]
  },
  {
   "cell_type": "code",
   "execution_count": null,
   "metadata": {
    "pycharm": {
     "name": "#%%\n"
    }
   },
   "outputs": [],
   "source": [
    "# Its x-y bounding box is a (minx, miny, maxx, maxy) tuple.\n",
    "\n",
    "polygon.bounds"
   ]
  },
  {
   "cell_type": "markdown",
   "source": [
    "### More About Shapely  \n",
    "\n",
    "[Shapely](http://toblerity.org/shapely/manual.html) is a Python package for \n",
    "set-theoretic analysis and manipulation of planar features using (via Python’s ctypes module) \n",
    "functions from the well-known and widely deployed [GEOS library](http://trac.osgeo.org/geos). \n",
    "GEOS, a port of the [JTS Topology Suite](http://www.tsusiatsoftware.net/jts/main.html) (JTS), \n",
    "is the geometry engine of the PostGIS spatial extension for the PostgreSQL RDBMS.\n",
    " \n",
    "The designs of JTS and GEOS are largely guided by the \n",
    "Open Geospatial Consortium‘s (OGC) and ISO 19125 \n",
    "*Simple Features (Access) Specification* [ref](https://en.wikipedia.org/wiki/Simple_Features). \n",
    "Shapely adheres mainly to the same set of standard classes and operations. \n",
    "Shapely is thereby deeply rooted in the conventions of the geographic information systems (GIS) world, \n",
    "but aspires to be equally useful to programmers working on non-conventional problems.\n",
    "\n",
    "From the [Shapely manual](https://shapely.readthedocs.io/en/stable/manual.html): \n",
    "\n",
    "> **Relationships**\n",
    "> The spatial data model is accompanied by a group of natural language relationships between \n",
    "> geometric objects – *contains, intersects, overlaps, touches*, etc. – and a theoretical \n",
    "> framework for understanding them using the 3x3 matrix of the mutual intersections \n",
    "> of their component point sets: the [DE-9IM](https://en.wikipedia.org/wiki/DE-9IM). \n",
    "\n",
    "> **Operations**\n",
    "> Following the JTS technical specs .... this manual will make a distinction between constructive \n",
    "> (*buffer, convex hull*) and set-theoretic operations (*intersection, union*, etc.). \n",
    "\n",
    "So think of Shapely as providing a **Spatial (Class) Model** with functions/operations for:\n",
    "\n",
    "* **Spatial Relationships** - *contains, intersects, overlaps, touches*, ...\n",
    "* **Spatial Operations** - *buffer, convex hull, intersection, union*, ...\n"
   ],
   "metadata": {
    "collapsed": false
   }
  },
  {
   "cell_type": "markdown",
   "source": [
    "### Exploring Spatial Relationships with Shapely\n",
    "Fundamental to Geometry-math are *Spatial Relationships*.  \n",
    "See simplified view below, more [on Wikipedia](https://en.wikipedia.org/wiki/Spatial_relation).\n",
    "\n",
    "![(Topological) Spatial Relationships](images/spatialrelations.png)\n",
    "*Examples of topological spatial relations - [By Krauss - Own work, CC BY-SA 3.0](https://commons.wikimedia.org/w/index.php?curid=21299138)*\n",
    "\n",
    "If you want to dive into\n",
    "a theoretical background, check out the [Dimensionally Extended nine-Intersection Model (DE-9IM)](https://en.wikipedia.org/wiki/DE-9IM). \n",
    "\n",
    "Spatial Relationships are often central within *(Geo)Spatial Analysis* we will explore [later](06-data-analysis.ipynb).\n",
    "\n",
    "Shapely has excellent support for *(Topological) Spatial Relationships*. With Shapely, we can solve tasks and questions like:\n",
    "\n",
    "* What is the area of The Netherlands?\n",
    "* What is the distance between Amsterdam and Athens?\n",
    "* How long is The Donau?\n",
    "* Do two features overlap or intersect? Does the Donau float through Romania?\n",
    "* How does the common area of two features look like?\n",
    "* Create a buffer area around the feature.\n",
    "* ...\n",
    "\n",
    "Thus before revoking to advanced analysis tools, already some \n",
    "powerful GIS-questions can be solved with Shapely! As a warm-up, let's explore \n",
    "some of Shapely's spatial relationship functions here.\n",
    "\n",
    "First some boolean operations (**Spatial Relationships**):\n"
   ],
   "metadata": {
    "collapsed": false
   }
  },
  {
   "cell_type": "code",
   "execution_count": null,
   "outputs": [],
   "source": [
    "from shapely.geometry import *\n",
    "\n",
    "ls = LineString([(0, 0), (1, 1)])\n",
    "ls.contains(Point(0.5, 0.5))\n"
   ],
   "metadata": {
    "collapsed": false,
    "pycharm": {
     "name": "#%%\n"
    }
   }
  },
  {
   "cell_type": "code",
   "execution_count": null,
   "outputs": [],
   "source": [
    "ls2 = LineString([(0, 1), (1, 0)])\n",
    "ls.crosses(ls2)\n"
   ],
   "metadata": {
    "collapsed": false,
    "pycharm": {
     "name": "#%%\n"
    }
   }
  },
  {
   "cell_type": "code",
   "execution_count": null,
   "outputs": [],
   "source": [
    "polygon = Polygon([(0, 0), (3, 4), (3, 0)])\n",
    "polygon.contains(Point(0.5, 0.5))\n"
   ],
   "metadata": {
    "collapsed": false,
    "pycharm": {
     "name": "#%%\n"
    }
   }
  },
  {
   "cell_type": "markdown",
   "source": [
    "#### Analysis methods \n",
    "Next analysis methods that return new geometric objects.\n"
   ],
   "metadata": {
    "collapsed": false,
    "pycharm": {
     "name": "#%% md\n"
    }
   }
  },
  {
   "cell_type": "code",
   "execution_count": null,
   "outputs": [],
   "source": [
    "ls = LineString([(0, 0), (1, 1)])\n",
    "print(ls.centroid)\n"
   ],
   "metadata": {
    "collapsed": false,
    "pycharm": {
     "name": "#%%\n"
    }
   }
  },
  {
   "cell_type": "code",
   "execution_count": null,
   "outputs": [],
   "source": [
    "ls2 = LineString([(0, 1), (1, 0)])\n",
    "print(ls.intersection(ls2))\n"
   ],
   "metadata": {
    "collapsed": false,
    "pycharm": {
     "name": "#%%\n"
    }
   }
  },
  {
   "cell_type": "code",
   "execution_count": null,
   "outputs": [],
   "source": [
    "polygon = Polygon([(1, 1), (1,2), (2,2), (2,1)])\n",
    "ls3 = LineString([(0, 0), (3,3)])\n",
    "print(polygon.intersection(ls3))\n"
   ],
   "metadata": {
    "collapsed": false,
    "pycharm": {
     "name": "#%%\n"
    }
   }
  },
  {
   "cell_type": "code",
   "execution_count": null,
   "outputs": [],
   "source": [
    "ls = LineString([(0, 0), (1, 1)])\n",
    "ls"
   ],
   "metadata": {
    "collapsed": false,
    "pycharm": {
     "name": "#%%\n"
    }
   }
  },
  {
   "cell_type": "code",
   "execution_count": null,
   "outputs": [],
   "source": [
    "# Place a buffer around the LineString\n",
    "poly1 = ls.buffer(0.2)\n",
    "print(poly1)\n",
    "poly1\n"
   ],
   "metadata": {
    "collapsed": false,
    "pycharm": {
     "name": "#%%\n"
    }
   }
  },
  {
   "cell_type": "markdown",
   "source": [
    "We will revisit Shapely for more Spatial Relationships and Operations in the [Data Analysis Lesson](06-data-analysis.ipynb).\n"
   ],
   "metadata": {
    "collapsed": false,
    "pycharm": {
     "name": "#%% md\n"
    }
   }
  },
  {
   "cell_type": "markdown",
   "metadata": {},
   "source": [
    "### About Projections and Shapely\n",
    "\n",
    "> *Shapely does not support coordinate system transformations.*\n",
    "> *All operations on two or more features presume that the features exist in the same Cartesian plane.*\n",
    "> from: https://shapely.readthedocs.io/en/stable/manual.html#coordinate-systems\n",
    "\n",
    "In Shapely, the distance is the Euclidean Distance or \n",
    "Linear distance (Pythagoras Law!) between for example two points on a plane and not the \n",
    "[Great-circle distance](http://en.wikipedia.org/wiki/Great-circle_distance) between two points on a sphere!\n",
    "If you are working with data in WGS84 (EPSG:4326), 'lat/lon' (think of GPS coordinates) in degrees,\n",
    "Shapely's calculations like `length` and `area` will not be what you would expect. \n",
    "\n",
    "We have several options (see also [this SE discussion](https://gis.stackexchange.com/questions/80881/what-is-unit-of-shapely-length-attribute)):\n",
    "\n",
    "* add-hoc: calculate the [Great Circle Distance](https://en.wikipedia.org/wiki/Great-circle_distance), using functions for the [Haversine Formula](https://en.wikipedia.org/wiki/Haversine_formula) or [Law of Cosines](https://en.wikipedia.org/wiki/Spherical_law_of_cosines).\n",
    "* reproject your source data to a 'metric' projection like Web Mercator (EPSG:3857, worldwide, used for tiles by Google, OSM and others) using e.g. GDAL or GeoPandas (uses `pyproj`). \n",
    "* use `pyproj` directly to apply the proper formulas\n",
    "\n",
    "Below an example to illustrate:\n"
   ]
  },
  {
   "cell_type": "code",
   "execution_count": null,
   "metadata": {
    "pycharm": {
     "name": "#%%\n"
    }
   },
   "outputs": [],
   "source": [
    "from shapely.geometry import Point\n",
    "\n",
    "point1 = Point(50.67, 4.62)\n",
    "point2 = Point(51.67, 4.64)\n",
    "\n",
    "# Shapely Distance in degrees\n",
    "point1.distance(point2)\n"
   ]
  },
  {
   "cell_type": "markdown",
   "source": [
    "Using `pyproj` to do get real distance in km according to WGS84:\n"
   ],
   "metadata": {
    "collapsed": false
   }
  },
  {
   "cell_type": "code",
   "execution_count": null,
   "metadata": {
    "pycharm": {
     "name": "#%%\n"
    }
   },
   "outputs": [],
   "source": [
    "import pyproj\n",
    "geod = pyproj.Geod(ellps='WGS84')\n",
    "angle1,angle2,distance = geod.inv(point1.x, point1.y, point2.x, point2.y)\n",
    "\n",
    "# \"Real\" Distance in km\n",
    "distance/1000.0\n",
    "    "
   ]
  },
  {
   "cell_type": "markdown",
   "source": [
    "---\n",
    "[<- Introduction](01-introduction.ipynb) | [Projections ->](03-projections.ipynb)"
   ],
   "metadata": {
    "collapsed": false,
    "pycharm": {
     "name": "#%% md\n"
    }
   }
  }
 ],
 "metadata": {
  "kernelspec": {
   "display_name": "Python 3",
   "language": "python",
   "name": "python3"
  },
  "language_info": {
   "codemirror_mode": {
    "name": "ipython",
    "version": 3
   },
   "file_extension": ".py",
   "mimetype": "text/x-python",
   "name": "python",
   "nbconvert_exporter": "python",
   "pygments_lexer": "ipython3",
   "version": "3.7.3"
  },
  "pycharm": {
   "stem_cell": {
    "cell_type": "raw",
    "source": [],
    "metadata": {
     "collapsed": false
    }
   }
  }
 },
 "nbformat": 4,
 "nbformat_minor": 2
}