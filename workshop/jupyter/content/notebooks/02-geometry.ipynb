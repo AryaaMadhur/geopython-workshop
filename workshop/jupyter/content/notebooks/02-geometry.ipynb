{
 "cells": [
  {
   "cell_type": "markdown",
   "metadata": {},
   "source": [
    "# Geometry\n",
    "## Fiona and Shapely Test"
   ]
  },
  {
   "cell_type": "markdown",
   "metadata": {},
   "source": [
    "Feature geometry can be accessed using the `geometry` property of each feature, for example:"
   ]
  },
  {
   "cell_type": "code",
   "execution_count": 5,
   "metadata": {
    "pycharm": {
     "name": "#%%\n"
    }
   },
   "outputs": [
    {
     "name": "stdout",
     "output_type": "stream",
     "text": [
      "{'type': 'MultiPolygon', 'coordinates': [[[(12.690006137755631, 55.609990953180784), (12.089991082414741, 54.80001455343793), (11.043543328504228, 55.364863796604254), (10.903913608451631, 55.77995473898875), (12.370904168353292, 56.111407375708836), (12.690006137755631, 55.609990953180784)]], [[(10.912181837618363, 56.458621324277914), (10.667803989309988, 56.08138336854722), (10.369992710011985, 56.19000722922473), (9.649984978889307, 55.469999498102055), (9.921906365609175, 54.98310415304806), (9.282048780971138, 54.83086538351617), (8.526229282270236, 54.96274363872499), (8.12031090661759, 55.517722683323626), (8.08997684086225, 56.5400117051376), (8.256581658571264, 56.8099693874303), (8.543437534223386, 57.110002753316905), (9.42446902836761, 57.17206614849948), (9.775558709358563, 57.44794078228966), (10.580005730846153, 57.73001658795485), (10.546105991262692, 57.215732733786155), (10.250000034230226, 56.89001618105047), (10.369992710011985, 56.609981594460834), (10.912181837618363, 56.458621324277914)]]]}\n"
     ]
    }
   ],
   "source": [
    "import fiona\n",
    "\n",
    "with fiona.open(\"../data/europe_110.geo.gpkg\") as eu:\n",
    "    print(eu[10][\"geometry\"])\n",
    "    "
   ]
  },
  {
   "cell_type": "markdown",
   "metadata": {},
   "source": [
    "### Using Shapely for geometry manipulation   \n",
    "\n",
    "[Shapely](http://toblerity.org/shapely/manual.html) is a Python package for \n",
    "set-theoretic analysis and manipulation of planar features using (via Python’s ctypes module) \n",
    "functions from the well-known and widely deployed GEOS library. \n",
    "GEOS, a port of the Java Topology Suite (JTS), is the geometry engine of the PostGIS spatial \n",
    "extension for the PostgreSQL RDBMS. \n",
    "The designs of JTS and GEOS are largely guided by the \n",
    "Open Geospatial Consortium‘s Simple Features Access Specification and \n",
    "Shapely adheres mainly to the same set of standard classes and operations. \n",
    "Shapely is thereby deeply rooted in the conventions of the geographic information systems (GIS) world, \n",
    "but aspires to be equally useful to programmers working on non-conventional problems."
   ]
  },
  {
   "cell_type": "markdown",
   "metadata": {},
   "source": [
    "With Shapely, we can solve tasks like\n",
    "\n",
    "* How big is the feature\n",
    "* Do two features overlap?\n",
    "* How does the common area of two features look like\n",
    "* Create a buffer area around the feature\n",
    "* ..."
   ]
  },
  {
   "cell_type": "markdown",
   "metadata": {},
   "source": [
    "### Converting JSON to geometry objects"
   ]
  },
  {
   "cell_type": "markdown",
   "metadata": {},
   "source": [
    "First we import `shapely` and it's functions and then convert the JSON-encoded geometries to Geometry objects"
   ]
  },
  {
   "cell_type": "code",
   "execution_count": null,
   "metadata": {
    "pycharm": {
     "name": "#%%\n"
    }
   },
   "outputs": [],
   "source": [
    "from shapely.geometry import shape\n",
    "\n",
    "with fiona.open(\"../data/europe_110.geo.json\") as eu:\n",
    "    geom = shape(eu[14][\"geometry\"])\n",
    "geom # Jupyter can display geometry data directly"
   ]
  },
  {
   "cell_type": "code",
   "execution_count": null,
   "metadata": {
    "pycharm": {
     "name": "#%%\n"
    }
   },
   "outputs": [],
   "source": [
    "print(geom.type)"
   ]
  },
  {
   "cell_type": "code",
   "execution_count": null,
   "metadata": {
    "pycharm": {
     "name": "#%%\n"
    }
   },
   "outputs": [],
   "source": [
    "print(geom.area)"
   ]
  },
  {
   "cell_type": "code",
   "execution_count": null,
   "metadata": {
    "pycharm": {
     "name": "#%%\n"
    }
   },
   "outputs": [],
   "source": [
    "print(geom.length)"
   ]
  },
  {
   "cell_type": "markdown",
   "metadata": {},
   "source": [
    "Let's have a look at some geometry methods"
   ]
  },
  {
   "cell_type": "code",
   "execution_count": null,
   "metadata": {
    "pycharm": {
     "name": "#%%\n"
    }
   },
   "outputs": [],
   "source": [
    "help(geom)"
   ]
  },
  {
   "cell_type": "markdown",
   "metadata": {},
   "source": [
    "For example we can make a buffer around our polygon:"
   ]
  },
  {
   "cell_type": "code",
   "execution_count": null,
   "metadata": {
    "pycharm": {
     "name": "#%%\n"
    }
   },
   "outputs": [],
   "source": [
    "geom.buffer(500)"
   ]
  },
  {
   "cell_type": "markdown",
   "metadata": {},
   "source": [
    "## Converting the geometry back to JSON format\n",
    "Once we are finished, we can convert the geometry back to JSON format using `shapely.geometry.mapping` function\n"
   ]
  },
  {
   "cell_type": "code",
   "execution_count": null,
   "metadata": {
    "pycharm": {
     "name": "#%%\n"
    }
   },
   "outputs": [],
   "source": [
    "from shapely.geometry import mapping"
   ]
  },
  {
   "cell_type": "code",
   "execution_count": null,
   "metadata": {
    "pycharm": {
     "name": "#%%\n"
    }
   },
   "outputs": [],
   "source": [
    "# let's create new GeoJSON-encoded vector feature\n",
    "import copy\n",
    "\n",
    "new_feature = {\n",
    "    \"type\": \"Feature\",\n",
    "    \"properties\": {\"name\": \"My buffered feature\"},\n",
    "    \"geometry\": mapping(geom.buffer(100))\n",
    "}\n",
    "new_feature"
   ]
  },
  {
   "cell_type": "markdown",
   "metadata": {},
   "source": [
    "---\n",
    "[<- Introduction](01-introduction.ipynb) | [Projections ->](03-projections.ipynb)"
   ]
  }
 ],
 "metadata": {
  "kernelspec": {
   "display_name": "Python 3",
   "language": "python",
   "name": "python3"
  },
  "language_info": {
   "codemirror_mode": {
    "name": "ipython",
    "version": 3
   },
   "file_extension": ".py",
   "mimetype": "text/x-python",
   "name": "python",
   "nbconvert_exporter": "python",
   "pygments_lexer": "ipython3",
   "version": "3.7.3"
  },
  "pycharm": {
   "stem_cell": {
    "cell_type": "raw",
    "metadata": {
     "collapsed": false
    },
    "source": []
   }
  }
 },
 "nbformat": 4,
 "nbformat_minor": 2
}
