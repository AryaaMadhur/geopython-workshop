{
 "cells": [
  {
   "cell_type": "markdown",
   "metadata": {},
   "source": [
    "# Raster data"
   ]
  },
  {
   "cell_type": "markdown",
   "metadata": {},
   "source": [
    "[GDAL](https://gdal.org/) is today the reference toolbox to read and write raster data. It is used by almost all of the FOSS4G programmes and libraries that interact with rasters. GDAL is also used by many commercial products. A [Python API](https://gdal.org/python/) is available for GDAL that provides much of the functionality.\n",
    "\n",
    "The [RasterIO](https://rasterio.readthedocs.io) library makes interaction with rasters considebrably more convinient, however. It is in esssence a bridge between GDAL and the [NumPy](https://numpy.org/) package for scientific computing. With RasterIO rasters are easily translated into NumPy arrays and vice-versa."
   ]
  },
  {
   "cell_type": "markdown",
   "metadata": {},
   "source": [
    "## Reading in and inspecting a raster\n",
    "\n",
    "Possibly the most essential operation is to open a raster for processing or inspection. This is rather simple:\n",
    "\n"
   ]
  },
  {
   "cell_type": "code",
   "execution_count": null,
   "metadata": {},
   "outputs": [],
   "source": [
    "import rasterio\n",
    "srtm = rasterio.open('../data/srtm/srtm.geotiff')\n",
    "srtm"
   ]
  },
  {
   "cell_type": "markdown",
   "metadata": {},
   "source": [
    "This is a tile from the digital elevation model produced by the Shuttle Radio Topography Mission. \n",
    "\n",
    "The `open` method returns an object of the class `DatasetReader`, which contains the raster meta-data and the set of bands included. `open` can also be invoked in write (with the extra argument `'w'`, in which case it returns a `DatasetWriter` type object.\n",
    "\n",
    "`DatasetReader` provides easy access to useful meta-data, for instance its dimensions:"
   ]
  },
  {
   "cell_type": "code",
   "execution_count": null,
   "metadata": {},
   "outputs": [],
   "source": [
    "srtm.width"
   ]
  },
  {
   "cell_type": "code",
   "execution_count": null,
   "metadata": {},
   "outputs": [],
   "source": [
    "srtm.height"
   ]
  },
  {
   "cell_type": "markdown",
   "metadata": {},
   "source": [
    "Also information related to the reader object itself:"
   ]
  },
  {
   "cell_type": "code",
   "execution_count": null,
   "metadata": {},
   "outputs": [],
   "source": [
    "srtm.name"
   ]
  },
  {
   "cell_type": "code",
   "execution_count": null,
   "metadata": {},
   "outputs": [],
   "source": [
    "srtm.mode"
   ]
  },
  {
   "cell_type": "code",
   "execution_count": null,
   "metadata": {},
   "outputs": [],
   "source": [
    "The `count` property informs on the number of bands:"
   ]
  },
  {
   "cell_type": "code",
   "execution_count": null,
   "metadata": {},
   "outputs": [],
   "source": [
    "srtm.count"
   ]
  },
  {
   "cell_type": "code",
   "execution_count": null,
   "metadata": {},
   "outputs": [],
   "source": [
    "The geographic information is also available:"
   ]
  },
  {
   "cell_type": "code",
   "execution_count": null,
   "metadata": {},
   "outputs": [],
   "source": [
    "srtm.crs"
   ]
  },
  {
   "cell_type": "code",
   "execution_count": null,
   "metadata": {},
   "outputs": [],
   "source": [
    "srtm.bounds"
   ]
  },
  {
   "cell_type": "markdown",
   "metadata": {},
   "source": [
    "The `read` method provides the means to actually access the information in the raster. It takes as argument the band number and returns a NumPy [NDArray](https://docs.scipy.org/doc/numpy/reference/generated/numpy.ndarray.html) object:"
   ]
  },
  {
   "cell_type": "code",
   "execution_count": null,
   "metadata": {},
   "outputs": [],
   "source": [
    "srtm_array = srtm.read(1)\n",
    "srtm_array"
   ]
  },
  {
   "cell_type": "markdown",
   "metadata": {},
   "source": [
    "## Plotting a raster\n",
    "\n",
    "With the NumPy Array object plotting becomes rather simple. The [matplotlib](https://matplotlib.org) library is meant for Maths but it works rather smootly with rasters too."
   ]
  },
  {
   "cell_type": "code",
   "execution_count": null,
   "metadata": {},
   "outputs": [],
   "source": [
    "from matplotlib import pyplot\n",
    "pyplot.imshow(srtm_array, cmap='pink')\n",
    "pyplot.show()"
   ]
  },
  {
   "cell_type": "markdown",
   "metadata": {},
   "source": [
    "This is a very simply form of visualisation. It does not allow image composition with different bands, for instance, but it is handy for quick visual inspection. The [Visualisation](07-visualization.ipynb) section explores this topic in more detail."
   ]
  },
  {
   "cell_type": "markdown",
   "metadata": {},
   "source": [
    "## Creating a new raster"
   ]
  },
  {
   "cell_type": "markdown",
   "metadata": {},
   "source": [
    "With a raster band encapsulated into an array, map algebra and analysis in general become rather simple. As an example, consider the high pass filter defined by the moving window below:\n",
    "\n",
    "|  0 | -1 |  0 |\n",
    "| -1 |  4 | -1 |\n",
    "|  0 | -1 |  0 |\n",
    "\n",
    "This is a typical operation in digital imaging processing that also finds application in raster analysis. Applying this moving window to a NumPy array requiresthe following:"
   ]
  },
  {
   "cell_type": "code",
   "execution_count": null,
   "metadata": {},
   "outputs": [],
   "source": [
    "import numpy as np\n",
    "high_pass_array = np.full(srtm_array.shape, 0).astype(np.int16)\n",
    "\n",
    "for i in range (1, srtm_array.shape[0] - 1):\n",
    "    for j in range (1, srtm_array.shape[1] - 1):\n",
    "        high_pass_array[i,j] = \\\n",
    "            srtm_array[i,j] * 4 - \\\n",
    "            srtm_array[i-1,j] - \\\n",
    "            srtm_array[i,j+1] - \\\n",
    "            srtm_array[i,j-1] - \\\n",
    "            srtm_array[i+1,j]\n",
    "            \n",
    "high_pass_array"
   ]
  },
  {
   "cell_type": "code",
   "execution_count": null,
   "metadata": {},
   "outputs": [],
   "source": [
    "`matplotlib` can be applied again to inspect the result:"
   ]
  },
  {
   "cell_type": "code",
   "execution_count": null,
   "metadata": {},
   "outputs": [],
   "source": [
    "pyplot.imshow(high_pass_array, cmap='pink')\n",
    "pyplot.show()"
   ]
  },
  {
   "cell_type": "markdown",
   "metadata": {},
   "source": [
    "The high pass filter highlights transitions (the darker cells in the raster above). Since the input is a DEM, in this case the high pass filter shows the cells with steepest slope.\n",
    "\n",
    "This new raster is still just an array. In order to save it (or use it in general) as a geo-referenced object, a new dataset object must be created. This can be made with the `open` method in write mode, i.e. using the `'w'` argument:"
   ]
  },
  {
   "cell_type": "code",
   "execution_count": null,
   "metadata": {},
   "outputs": [],
   "source": [
    "high_pass = rasterio.open(\n",
    "    '../data/srtm/srtm_high_pass.geotiff',\n",
    "    'w',\n",
    "    driver='GTiff',\n",
    "    height=high_pass_array.shape[0],\n",
    "    width=high_pass_array.shape[1],\n",
    "    count=1,\n",
    "    dtype=str(high_pass_array.dtype),\n",
    "    crs=srtm.crs,\n",
    "    transform=srtm.transform\n",
    ")"
   ]
  },
  {
   "cell_type": "markdown",
   "metadata": {},
   "source": [
    "In write mode `open` needs some more information. The number of rows and columns, plus the data type, are passed from the array object itself. The CRS information is obtained from the original `srtm` object. Only the content of the cells in the new raster is different, the location and size remain the same. \n",
    "\n",
    "`open` created a connection to a new raster file and returned an object of type `RasterUpdater`. With this object the contents of the new array can be copied into the file:\n"
   ]
  },
  {
   "cell_type": "code",
   "execution_count": null,
   "metadata": {},
   "outputs": [],
   "source": [
    "high_pass.write(high_pass_array, 1)"
   ]
  },
  {
   "cell_type": "markdown",
   "metadata": {},
   "source": [
    "The `write` method takes as arguments the NumPy array with cell contents and the band number in the raster. In this case `1` is used for the band number, as there is only one.\n",
    "\n",
    "The flush the file into the hard disk the `close` method is used:"
   ]
  },
  {
   "cell_type": "code",
   "execution_count": null,
   "metadata": {},
   "outputs": [],
   "source": [
    "high_pass.close()"
   ]
  },
  {
   "cell_type": "markdown",
   "metadata": {},
   "source": [
    "---\n",
    "[<- Vector data](04-vector-data.ipynb) | [Data analysis ->](06-data-analysis.ipynb)"
   ]
  }
 ],
 "metadata": {
  "@webio": {
   "lastCommId": "EA36AD1BE776429E809B134549B81FDE",
   "lastKernelId": "aa3f9500-edb1-42f0-b9a8-f04fd6aa975f"
  },
  "kernelspec": {
   "display_name": "Python 3",
   "language": "python",
   "name": "python3"
  },
  "language_info": {
   "codemirror_mode": {
    "name": "ipython",
    "version": 3
   },
   "file_extension": ".py",
   "mimetype": "text/x-python",
   "name": "python",
   "nbconvert_exporter": "python",
   "pygments_lexer": "ipython3",
   "version": "3.7.3"
  }
 },
 "nbformat": 4,
 "nbformat_minor": 2
}
