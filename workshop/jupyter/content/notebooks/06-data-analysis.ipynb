{
 "cells": [
  {
   "cell_type": "markdown",
   "metadata": {},
   "source": [
    "# Data analysis\n",
    "\n",
    "In this lesson we treat Spatial Data Analysis, often called [Spatial Analysis](https://en.wikipedia.org/wiki/Spatial_analysis)\n",
    "or even Spatial Statistics. \n",
    "\n",
    "> Spatial analysis or spatial statistics includes any of the formal techniques which \n",
    "> study entities using their topological, geometric, or geographic properties. From [Wikipedia](https://en.wikipedia.org/wiki/Spatial_analysis). \n",
    "\n",
    "Wikipedia actually provides [a nice overview](https://en.wikipedia.org/wiki/Spatial_analysis) to give you a feel what Spatial Analysis is about.\n"
   ]
  },
  {
   "cell_type": "markdown",
   "metadata": {},
   "source": [
    "## Analysis with Fiona and Shapely\n",
    "Let's explore some of Shapely's functions for *(Topological) Spatial Relationships*.\n",
    "See simplified view below, more [on Wikipedia](https://en.wikipedia.org/wiki/Spatial_relation).\n",
    "\n",
    "![(Topological) Spatial Relationships](images/spatialrelations.png)\n",
    "*Examples of topological spatial relations - [By Krauss - Own work, CC BY-SA 3.0](https://commons.wikimedia.org/w/index.php?curid=21299138)*\n",
    " \n",
    "If you want to dive into\n",
    "a theoretical background, check out the [Dimensionally Extended nine-Intersection Model (DE-9IM)](https://en.wikipedia.org/wiki/DE-9IM). \n",
    "\n",
    "We'll start simple, answering the question: **Does the Donau float through Romenia?**. We'll use two National Earth datasets: Rivers and lakes\n",
    "(LineStrings) and (Admin-0) Countries. In spatial \n",
    "relationship-terms: *Is the (Multi)LineString representing the Donau crossing the (Multi)Polygon representing Romenia?\"* \n",
    "\n",
    "We will follow these steps:\n",
    "\n",
    "* read the Rivers and Lakes dataset\n",
    "* extract the Donau feature Geometry  \n",
    "* read the Countries dataset\n",
    "* extract the Romania feature Geometry  \n",
    "* apply the Shapely `crosses` function\n",
    "* advanced: list all DE-9IM relations of the two geometries\n",
    "* advanced: through which countries does the Donau float?\n"
   ]
  },
  {
   "cell_type": "code",
   "execution_count": 11,
   "metadata": {
    "pycharm": {
     "name": "#%%\n"
    }
   },
   "outputs": [],
   "source": [
    "import fiona\n",
    "from shapely.geometry import shape\n"
   ]
  },
  {
   "cell_type": "markdown",
   "metadata": {},
   "source": [
    "### Fetch the Donau geometry.\n"
   ]
  },
  {
   "cell_type": "code",
   "execution_count": 12,
   "metadata": {
    "pycharm": {
     "name": "#%%\n"
    }
   },
   "outputs": [
    {
     "name": "stdout",
     "output_type": "stream",
     "text": [
      "Found Donau! geom type: LineString\n"
     ]
    },
    {
     "data": {
      "text/plain": [
       "'LineString'"
      ]
     },
     "execution_count": 12,
     "metadata": {},
     "output_type": "execute_result"
    }
   ],
   "source": [
    "with fiona.open(\"../data/rivers_lake_centerlines.gpkg\") as rivers_lakes:\n",
    "\tfor feature in rivers_lakes:\n",
    "\t\tif feature['properties']['name'] == 'Donau':\n",
    "\t\t\tdonau_geom = shape(feature[\"geometry\"])\n",
    "\t\t\tprint('Found Donau! geom type: %s' % donau_geom.type)\n",
    "\t\t\tbreak\n",
    "donau_geom.type"
   ]
  },
  {
   "cell_type": "markdown",
   "metadata": {},
   "source": [
    "### Fetch the Romania geometry.\n"
   ]
  },
  {
   "cell_type": "code",
   "execution_count": 13,
   "metadata": {
    "pycharm": {
     "name": "#%%\n"
    }
   },
   "outputs": [
    {
     "name": "stdout",
     "output_type": "stream",
     "text": [
      "Found Romania! geom type: MultiPolygon\n"
     ]
    }
   ],
   "source": [
    "with fiona.open(\"../data/countries.json\") as countries:\n",
    "\tfor feature in countries:\n",
    "\t\tif feature[\"properties\"][\"NAME\"] == \"Romania\":\n",
    "\t\t\tromania_geom = shape(feature[\"geometry\"])\n",
    "\t\t\tprint('Found Romania! geom type: {}'.format(romania_geom.type))\n",
    "\t\t\tbreak\n"
   ]
  },
  {
   "cell_type": "markdown",
   "metadata": {},
   "source": [
    "### Does the Donau float through Romania?\n"
   ]
  },
  {
   "cell_type": "code",
   "execution_count": 14,
   "metadata": {
    "pycharm": {
     "name": "#%%\n"
    }
   },
   "outputs": [
    {
     "data": {
      "text/plain": [
       "True"
      ]
     },
     "execution_count": 14,
     "metadata": {},
     "output_type": "execute_result"
    }
   ],
   "source": [
    "donau_geom.crosses(romania_geom)\n"
   ]
  },
  {
   "cell_type": "markdown",
   "metadata": {},
   "source": [
    "### List the (DE-9IM) relationships.\n"
   ]
  },
  {
   "cell_type": "code",
   "execution_count": 15,
   "metadata": {
    "pycharm": {
     "name": "#%%\n"
    }
   },
   "outputs": [
    {
     "data": {
      "text/plain": [
       "'111FF0212'"
      ]
     },
     "execution_count": 15,
     "metadata": {},
     "output_type": "execute_result"
    }
   ],
   "source": [
    "donau_geom.relate(romania_geom)\n"
   ]
  },
  {
   "cell_type": "markdown",
   "metadata": {},
   "source": [
    "### Through which countries does the Donau float?\n"
   ]
  },
  {
   "cell_type": "code",
   "execution_count": 16,
   "metadata": {
    "pycharm": {
     "name": "#%%\n"
    }
   },
   "outputs": [
    {
     "name": "stdout",
     "output_type": "stream",
     "text": [
      "The Donau floats through:\n",
      "Ukraine\n",
      "Austria\n",
      "Hungary\n",
      "Romania\n",
      "Germany\n",
      "Bulgaria\n",
      "Croatia\n",
      "Slovakia\n",
      "Serbia\n"
     ]
    }
   ],
   "source": [
    "print(\"The Donau floats through:\")\n",
    "\n",
    "with fiona.open(\"../data/countries.gpkg\") as countries:\n",
    "\tfor feature in countries:\n",
    "\t\tcountry_geom = shape(feature[\"geometry\"])\n",
    "\t\tif donau_geom.crosses(country_geom):\n",
    "\t\t\tprint(feature[\"properties\"][\"NAME\"])\n",
    "  "
   ]
  },
  {
   "cell_type": "markdown",
   "metadata": {},
   "source": [
    "# Analyzing atmospheric total ozone data\n",
    "\n",
    "The [World Ozone and Ultraviolet Radiation Data Centre (WOUDC)](https://woudc.org) is one of six World Data Centres which are part of the Global Atmosphere Watch programme of the World Meteorological Organization. WOUDC provides an archive of daily total atmospheric ozone in a given column from the surface to the edge of the atmosphere.  Data is collected from a global network of monitoring stations across the world.\n",
    "\n",
    "Total ozone is measured in [Dobson units](https://en.wikipedia.org/wiki/Dobson_unit) with an acceptable range of 100 - 700 du.\n",
    "\n",
    "Let's generate a time series plot based on downloading GeoJSON data (via [WFS](https://geo.woudc.org/ows?service=WFS&version=1.1.0&request=GetFeature&outputformat=GeoJSON&typename=totalozone&filter=%3Cogc:Filter%3E%3Cogc:And%3E%3CPropertyIsEqualTo%3E%3CPropertyName%3Eplatform_id%3C/PropertyName%3E%3CLiteral%3E226%3C/Literal%3E%3C/PropertyIsEqualTo%3E%3CPropertyIsEqualTo%3E%3CPropertyName%3Eplatform_type%3C/PropertyName%3E%3CLiteral%3ESTN%3C/Literal%3E%3C/PropertyIsEqualTo%3E%3Cogc:PropertyIsBetween%3E%3Cogc:PropertyName%3Einstance_datetime%3C/ogc:PropertyName%3E%3Cogc:LowerBoundary%3E1924-01-01%2000:00:00%3C/ogc:LowerBoundary%3E%3Cogc:UpperBoundary%3E2019-12-31%2023:59:59%3C/ogc:UpperBoundary%3E%3C/ogc:PropertyIsBetween%3E%3C/ogc:And%3E%3C/ogc:Filter%3E&sortby=instance_datetime%20DESC&startindex=0&maxfeatures=200000)) of the [RNIMH Bucharest station 226](https://woudc.org/data/stations/?id=226&lang=en) record of the data and do some basic range checking."
   ]
  },
  {
   "cell_type": "code",
   "execution_count": 16,
   "metadata": {},
   "outputs": [
    {
     "data": {
      "text/plain": [
       "333.49461909808093"
      ]
     },
     "execution_count": 16,
     "metadata": {},
     "output_type": "execute_result"
    },
    {
     "data": {
      "image/png": "[encoded data removed]",
      "text/plain": [
       "<Figure size 432x288 with 1 Axes>"
      ]
     },
     "metadata": {
      "needs_background": "light"
     },
     "output_type": "display_data"
    }
   ],
   "source": [
    "from datetime import datetime\n",
    "import json\n",
    "import gzip\n",
    "\n",
    "import matplotlib.pyplot as plt\n",
    "from pandas.plotting import register_matplotlib_converters\n",
    "\n",
    "register_matplotlib_converters()\n",
    "\n",
    "with gzip.open('../data/totalozone-station-226.json.gz') as gzfh:\n",
    "        data = json.load(gzfh)\n",
    "        \n",
    "len(data['features'])\n",
    "# setup graph axes\n",
    "x_axis = [datetime.strptime(x['properties']['instance_datetime'], '%Y/%m/%d 00:00:00+00') for x in data['features']]\n",
    "y_axis = [float(x['properties']['daily_columno3']) for x in data['features']]\n",
    "\n",
    "# render simple plot\n",
    "plt.title('Bucharest 226 dobson')\n",
    "plt.ylabel('Dobson units')\n",
    "plt.plot(x_axis, y_axis)\n",
    "\n",
    "# average\n",
    "total_average = sum(y_axis) / float(len(y_axis))\n",
    "total_average"
   ]
  },
  {
   "cell_type": "markdown",
   "metadata": {},
   "source": [
    "Let's test whether any values fall outside the acceptable range:"
   ]
  },
  {
   "cell_type": "code",
   "execution_count": 194,
   "metadata": {},
   "outputs": [
    {
     "data": {
      "text/plain": [
       "False"
      ]
     },
     "execution_count": 194,
     "metadata": {},
     "output_type": "execute_result"
    }
   ],
   "source": [
    "max(y_axis) > 700 or min(y_axis) < 100"
   ]
  },
  {
   "cell_type": "markdown",
   "metadata": {},
   "source": [
    "Now let's try importing all [WOUDC stations](https://woudc.org/data/stations/) into [GeoPandas](http://geopandas.org) and do some further analysis:"
   ]
  },
  {
   "cell_type": "code",
   "execution_count": 17,
   "metadata": {},
   "outputs": [
    {
     "data": {
      "text/plain": [
       "wmo_region\n",
       "I                 27\n",
       "II                56\n",
       "III               36\n",
       "IV               153\n",
       "V                 32\n",
       "VI               186\n",
       "the Antarctic     34\n",
       "Name: wmo_region, dtype: int64"
      ]
     },
     "execution_count": 17,
     "metadata": {},
     "output_type": "execute_result"
    }
   ],
   "source": [
    "import geopandas\n",
    "\n",
    "d = geopandas.read_file('../data/woudc-stations.geojson')\n",
    "\n",
    "d.groupby('wmo_region').wmo_region.count()"
   ]
  },
  {
   "cell_type": "markdown",
   "metadata": {},
   "source": [
    "Let's plot only region VI stations (i.e. Europe)"
   ]
  },
  {
   "cell_type": "code",
   "execution_count": 18,
   "metadata": {},
   "outputs": [
    {
     "data": {
      "text/plain": [
       "<matplotlib.axes._subplots.AxesSubplot at 0x7fb8e59275f8>"
      ]
     },
     "execution_count": 18,
     "metadata": {},
     "output_type": "execute_result"
    },
    {
     "data": {
      "image/png": "[encoded data removed]",
      "text/plain": [
       "<Figure size 432x288 with 1 Axes>"
      ]
     },
     "metadata": {
      "needs_background": "light"
     },
     "output_type": "display_data"
    }
   ],
   "source": [
    "d[d.wmo_region.isin(['VI']) == True].plot()\n",
    "# TODO: add basemap"
   ]
  },
  {
   "cell_type": "markdown",
   "metadata": {},
   "source": [
    "---\n",
    "[<- Raster Data](05-raster-data.ipynb) | [Visualization ->](07-visualization.ipynb)\n"
   ]
  }
 ],
 "metadata": {
  "kernelspec": {
   "display_name": "Python 3",
   "language": "python",
   "name": "python3"
  },
  "language_info": {
   "codemirror_mode": {
    "name": "ipython",
    "version": 3
   },
   "file_extension": ".py",
   "mimetype": "text/x-python",
   "name": "python",
   "nbconvert_exporter": "python",
   "pygments_lexer": "ipython3",
   "version": "3.7.3"
  },
  "pycharm": {
   "stem_cell": {
    "cell_type": "raw",
    "metadata": {
     "collapsed": false
    },
    "source": []
   }
  }
 },
 "nbformat": 4,
 "nbformat_minor": 2
}
