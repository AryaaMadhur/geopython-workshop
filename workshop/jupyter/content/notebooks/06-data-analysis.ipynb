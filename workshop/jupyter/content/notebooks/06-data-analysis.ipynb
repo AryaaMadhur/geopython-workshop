{
 "cells": [
  {
   "cell_type": "markdown",
   "metadata": {},
   "source": [
    "# Spatial Data Analysis\n",
    "\n",
    "In this lesson we treat Spatial Data Analysis, often called [Spatial Analysis](https://en.wikipedia.org/wiki/Spatial_analysis)\n",
    "or even Spatial Statistics. \n",
    "\n",
    "> Spatial analysis or spatial statistics includes any of the formal techniques which \n",
    "> study entities using their topological, geometric, or geographic properties. From [Wikipedia](https://en.wikipedia.org/wiki/Spatial_analysis). \n",
    "\n",
    "Wikipedia actually provides [a nice overview](https://en.wikipedia.org/wiki/Spatial_analysis) to give you a feel what Spatial Analysis is about.\n"
   ]
  },
  {
   "cell_type": "markdown",
   "metadata": {},
   "source": [
    "## Analysis with Fiona and Shapely\n",
    "Let's explore some of Shapely's functions for *(Topological) Spatial Relationships*.\n",
    "See simplified view below, more [on Wikipedia](https://en.wikipedia.org/wiki/Spatial_relation).\n",
    "\n",
    "![(Topological) Spatial Relationships](images/spatialrelations.png)\n",
    "*Examples of topological spatial relations - [By Krauss - Own work, CC BY-SA 3.0](https://commons.wikimedia.org/w/index.php?curid=21299138)*\n",
    " \n",
    "If you want to dive into\n",
    "a theoretical background, check out the [Dimensionally Extended nine-Intersection Model (DE-9IM)](https://en.wikipedia.org/wiki/DE-9IM). \n",
    "\n",
    "We'll start simple, answering the question: **Does the Donau float through Romenia?**. We'll use two National Earth datasets: Rivers and lakes\n",
    "(LineStrings) and (Admin-0) Countries. In spatial \n",
    "relationship-terms: *Is the (Multi)LineString representing the Donau crossing the (Multi)Polygon representing Romenia?\"* \n",
    "\n",
    "We will follow these steps:\n",
    "\n",
    "* read the Rivers and Lakes dataset\n",
    "* extract the Donau feature Geometry  \n",
    "* read the Countries dataset\n",
    "* extract the Romania feature Geometry  \n",
    "* apply the Shapely `crosses` function\n",
    "* advanced: list all DE-9IM relations of the two geometries\n",
    "* advanced: through which countries does the Donau float?\n"
   ]
  },
  {
   "cell_type": "code",
   "execution_count": null,
   "metadata": {
    "pycharm": {
     "name": "#%%\n"
    }
   },
   "outputs": [],
   "source": [
    "import fiona\n",
    "from shapely.geometry import shape\n"
   ]
  },
  {
   "cell_type": "markdown",
   "metadata": {},
   "source": [
    "### Fetch the Donau geometry.\n"
   ]
  },
  {
   "cell_type": "code",
   "execution_count": null,
   "metadata": {
    "pycharm": {
     "name": "#%%\n"
    }
   },
   "outputs": [],
   "source": [
    "with fiona.open(\"../data/rivers_lake_centerlines.gpkg\") as rivers_lakes:\n",
    "\tfor feature in rivers_lakes:\n",
    "\t\tif feature['properties']['name'] == 'Donau':\n",
    "\t\t\tdonau_geom = shape(feature[\"geometry\"])\n",
    "\t\t\tprint('Found Donau! geom type: %s' % donau_geom.type)\n",
    "\t\t\tbreak\n"
   ]
  },
  {
   "cell_type": "markdown",
   "metadata": {},
   "source": [
    "### Fetch the Romania geometry.\n"
   ]
  },
  {
   "cell_type": "code",
   "execution_count": null,
   "metadata": {
    "pycharm": {
     "name": "#%%\n"
    }
   },
   "outputs": [],
   "source": [
    "with fiona.open(\"../data/countries.json\") as countries:\n",
    "\tfor feature in countries:\n",
    "\t\tif feature[\"properties\"][\"NAME\"] == \"Romania\":\n",
    "\t\t\tromania_geom = shape(feature[\"geometry\"])\n",
    "\t\t\tprint('Found Romania! geom type: %s' % romania_geom.type)\n",
    "\t\t\tbreak\n"
   ]
  },
  {
   "cell_type": "markdown",
   "metadata": {},
   "source": [
    "### Does the Donau float through Romenia?\n"
   ]
  },
  {
   "cell_type": "code",
   "execution_count": null,
   "metadata": {
    "pycharm": {
     "name": "#%%\n"
    }
   },
   "outputs": [],
   "source": [
    "donau_geom.crosses(romania_geom)\n"
   ]
  },
  {
   "cell_type": "markdown",
   "metadata": {},
   "source": [
    "### List the (DE-9IM) relationships.\n"
   ]
  },
  {
   "cell_type": "code",
   "execution_count": null,
   "metadata": {
    "pycharm": {
     "name": "#%%\n"
    }
   },
   "outputs": [],
   "source": [
    "donau_geom.relate(romania_geom)\n"
   ]
  },
  {
   "cell_type": "markdown",
   "metadata": {},
   "source": [
    "### Through which countries does the Donau float?\n"
   ]
  },
  {
   "cell_type": "code",
   "execution_count": null,
   "metadata": {
    "pycharm": {
     "name": "#%%\n"
    }
   },
   "outputs": [],
   "source": [
    "print(\"The Donau floats through:\")\n",
    "\n",
    "with fiona.open(\"../data/countries.gpkg\") as countries:\n",
    "\tfor feature in countries:\n",
    "\t\tcountry_geom = shape(feature[\"geometry\"])\n",
    "\t\tif donau_geom.crosses(country_geom):\n",
    "\t\t\tprint(feature[\"properties\"][\"NAME\"])\n",
    "  "
   ]
  },
  {
   "cell_type": "markdown",
   "metadata": {},
   "source": [
    "---\n",
    "[<- Raster Data](05-raster-data.ipynb) | [Visualization ->](07-visualization.ipynb)\n"
   ]
  }
 ],
 "metadata": {
  "kernelspec": {
   "display_name": "Python 3",
   "language": "python",
   "name": "python3"
  },
  "language_info": {
   "codemirror_mode": {
    "name": "ipython",
    "version": 3
   },
   "file_extension": ".py",
   "mimetype": "text/x-python",
   "name": "python",
   "nbconvert_exporter": "python",
   "pygments_lexer": "ipython3",
   "version": "3.7.3"
  },
  "pycharm": {
   "stem_cell": {
    "cell_type": "raw",
    "metadata": {
     "collapsed": false
    },
    "source": []
   }
  }
 },
 "nbformat": 4,
 "nbformat_minor": 2
}
