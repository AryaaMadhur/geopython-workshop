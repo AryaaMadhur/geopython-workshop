{
 "cells": [
  {
   "cell_type": "markdown",
   "metadata": {},
   "source": [
    "# Remote Data\n",
    "\n",
    "## TEST OWSLib to fetch from OGC API Features (WFS3)"
   ]
  },
  {
   "cell_type": "code",
   "execution_count": null,
   "outputs": [],
   "source": [
    "\n",
    "from owslib.wfs import WebFeatureService\n",
    "w = WebFeatureService('https://demo.pygeoapi.io/master', version='3.0')\n",
    "\n",
    "# Conformance stuff\n",
    "print('This OGC API Features endpoint conforms to %s' % w.conformance())\n",
    "api = w.api() # OpenAPI definition\n",
    "\n",
    "# Get collections (datasets) in endpoint\n",
    "collections = w.collections()\n",
    "print('This OGC API Features endpoint has %s datasets' % len(collections))\n",
    "\n",
    "# Get items (paged) in Lakes collection\n",
    "lakes = w.collection('lakes')\n",
    "lakes_query = w.collection_items('lakes')\n",
    "lakes_query['features'][0]\n"
   ],
   "metadata": {
    "collapsed": false,
    "pycharm": {
     "name": "#%%\n"
    }
   }
  },
  {
   "cell_type": "markdown",
   "source": [
    "## TEST: Searching for the data in CSW server\n",
    "\n",
    "NOTE: You can skip this step and use the URL directly"
   ],
   "metadata": {
    "collapsed": false
   }
  },
  {
   "cell_type": "markdown",
   "source": [
    "First step: let's find some WFS service in our CSW server:"
   ],
   "metadata": {
    "collapsed": false
   }
  },
  {
   "cell_type": "code",
   "execution_count": null,
   "outputs": [],
   "source": [
    "from owslib.fes import PropertyIsLike, BBox, And, PropertyIsEqualTo\n",
    "from owslib.csw import CatalogueServiceWeb\n",
    "\n",
    "thecsw = CatalogueServiceWeb('http://geoportal.gov.cz/php/micka/csw/index.php')\n",
    "\n",
    "# wfs_query = PropertyIsLike('csw:AnyText', 'WFS')\n",
    "geology_query = PropertyIsLike('csw:AnyText', 'Geology')\n",
    "service_query = PropertyIsLike('apiso:type', 'service')\n",
    "geology_and_wfs = And([geology_query, service_query])\n",
    "thecsw.getrecords2([geology_and_wfs], esn='full')\n",
    "\n",
    "print(thecsw.results)\n",
    "\n",
    "for recid in thecsw.records:\n",
    "    record = thecsw.records[recid]\n",
    "    print(recid, record.title)"
   ],
   "metadata": {
    "collapsed": false,
    "pycharm": {
     "name": "#%%\n"
    }
   }
  },
  {
   "cell_type": "markdown",
   "source": [
    "Let's have a look at WFS data in czech Geology survey"
   ],
   "metadata": {
    "collapsed": false
   }
  },
  {
   "cell_type": "code",
   "execution_count": null,
   "outputs": [],
   "source": [
    "geology = thecsw.records['575a4ef6-2f74-43ed-9352-6f400a010852']\n",
    "print(\"Abstract:\\n %s\\n\" % geology.abstract)\n",
    "\n",
    "print(\"Identifier: %s\" % geology.identifiers[1]['identifier'])\n"
   ],
   "metadata": {
    "collapsed": false,
    "pycharm": {
     "name": "#%%\n"
    }
   }
  },
  {
   "cell_type": "code",
   "execution_count": null,
   "outputs": [],
   "source": [
    "from owslib import wfs as webfeatureservice\n",
    "url = \"http://inspire.geology.cz/geoserver/wms?service=WMS&version=1.3.0&request=Getcapabilities\"\n",
    "geology_wfs = webfeatureservice.WebFeatureService(geology.identifiers[1]['identifier'])\n",
    "\n"
   ],
   "metadata": {
    "collapsed": false,
    "pycharm": {
     "name": "#%%\n"
    }
   }
  },
  {
   "cell_type": "markdown",
   "source": [
    "Service metadta (Capabilities):"
   ],
   "metadata": {
    "collapsed": false
   }
  },
  {
   "cell_type": "code",
   "execution_count": null,
   "outputs": [],
   "source": [
    "capabilities = geology_wfs.getcapabilities()\n",
    "print(\"URL: %s\" % capabilities.geturl())\n",
    "print(\"Name: %s\" % geology_wfs.provider.name)\n",
    "print(\"Title: %s\" % geology_wfs.identification.title)\n",
    "print(\"Keywords: %s\" % geology_wfs.identification.keywords[0])\n",
    "print(\"Fees: %s\" % geology_wfs.identification.fees)\n",
    "print(\"Abstract: %s\" % geology_wfs.identification.abstract)"
   ],
   "metadata": {
    "collapsed": false,
    "pycharm": {
     "name": "#%%\n"
    }
   }
  },
  {
   "cell_type": "markdown",
   "source": [
    "Print list of available layers "
   ],
   "metadata": {
    "collapsed": false
   }
  },
  {
   "cell_type": "code",
   "execution_count": null,
   "outputs": [],
   "source": [
    "for i in geology_wfs.contents:\n",
    "    print(\"\\n#### {} ####\".format(i))\n",
    "    print(geology_wfs.contents[i].abstract)"
   ],
   "metadata": {
    "collapsed": false,
    "pycharm": {
     "name": "#%%\n"
    }
   }
  },
  {
   "cell_type": "markdown",
   "source": [
    "Download data from selected layer"
   ],
   "metadata": {
    "collapsed": false
   }
  },
  {
   "cell_type": "code",
   "execution_count": null,
   "outputs": [],
   "source": [
    "identifier = 'gsmlp:CZE_CGS_500k_Fault'\n",
    "features = geology_wfs.getfeature([identifier])\n",
    "\n",
    "# with open(\"test/geology_faults.gml\", \"w\") as out:\n",
    "#     out.write(features.read())\n",
    "\n"
   ],
   "metadata": {
    "collapsed": false,
    "pycharm": {
     "name": "#%%\n"
    }
   }
  },
  {
   "cell_type": "markdown",
   "source": [
    "---\n",
    "[<- Publishing](07-publishing.ipynb) | [Emerging Technology trends ->](09-emerging-technology-trends.ipynb)\n"
   ],
   "metadata": {
    "collapsed": false
   }
  }
 ],
 "metadata": {
  "kernelspec": {
   "display_name": "Python 3",
   "language": "python",
   "name": "python3"
  },
  "language_info": {
   "codemirror_mode": {
    "name": "ipython",
    "version": 3
   },
   "file_extension": ".py",
   "mimetype": "text/x-python",
   "name": "python",
   "nbconvert_exporter": "python",
   "pygments_lexer": "ipython3",
   "version": "3.6.8"
  },
  "pycharm": {
   "stem_cell": {
    "cell_type": "raw",
    "source": [],
    "metadata": {
     "collapsed": false
    }
   }
  }
 },
 "nbformat": 4,
 "nbformat_minor": 2
}